{
 "cells": [
  {
   "cell_type": "markdown",
   "metadata": {},
   "source": [
    "## Some initial stats and plots"
   ]
  },
  {
   "cell_type": "code",
   "execution_count": 21,
   "metadata": {},
   "outputs": [],
   "source": [
    "import numpy as np\n",
    "import pandas as pd\n",
    "%matplotlib inline\n",
    "import matplotlib.pyplot as plt\n",
    "plt.close('all');\n",
    "\n",
    "SN45 = pd.read_csv('data/SN000-045_raw.csv');\n",
    "SN46 = pd.read_csv('data/SN000-046_raw.csv');\n",
    "SN49 = pd.read_csv('data/SN000-049_raw.csv');\n",
    "SN62 = pd.read_csv('data/SN000-062_raw.csv');\n",
    "SN67 = pd.read_csv('data/SN000-067_raw.csv');\n",
    "SN72 = pd.read_csv('data/SN000-072_raw.csv');"
   ]
  },
  {
   "cell_type": "code",
   "execution_count": 22,
   "metadata": {},
   "outputs": [],
   "source": [
    "SN = SN46\n",
    "col = 'bin1'"
   ]
  },
  {
   "cell_type": "code",
   "execution_count": 23,
   "metadata": {},
   "outputs": [
    {
     "data": {
      "text/html": [
       "<div>\n",
       "<style scoped>\n",
       "    .dataframe tbody tr th:only-of-type {\n",
       "        vertical-align: middle;\n",
       "    }\n",
       "\n",
       "    .dataframe tbody tr th {\n",
       "        vertical-align: top;\n",
       "    }\n",
       "\n",
       "    .dataframe thead th {\n",
       "        text-align: right;\n",
       "    }\n",
       "</style>\n",
       "<table border=\"1\" class=\"dataframe\">\n",
       "  <thead>\n",
       "    <tr style=\"text-align: right;\">\n",
       "      <th></th>\n",
       "      <th>Unnamed: 0</th>\n",
       "      <th>id</th>\n",
       "      <th>temp_box</th>\n",
       "      <th>temp_manifold</th>\n",
       "      <th>rh_manifold</th>\n",
       "      <th>pressure</th>\n",
       "      <th>dew_point</th>\n",
       "      <th>noise</th>\n",
       "      <th>solar</th>\n",
       "      <th>wind_dir</th>\n",
       "      <th>...</th>\n",
       "      <th>bin9</th>\n",
       "      <th>bin10</th>\n",
       "      <th>bin11</th>\n",
       "      <th>bin12</th>\n",
       "      <th>bin13</th>\n",
       "      <th>bin14</th>\n",
       "      <th>sample_time</th>\n",
       "      <th>lat</th>\n",
       "      <th>lon</th>\n",
       "      <th>flag</th>\n",
       "    </tr>\n",
       "  </thead>\n",
       "  <tbody>\n",
       "    <tr>\n",
       "      <th>count</th>\n",
       "      <td>238624.000000</td>\n",
       "      <td>2.386240e+05</td>\n",
       "      <td>238624.000000</td>\n",
       "      <td>238624.000000</td>\n",
       "      <td>238624.000000</td>\n",
       "      <td>2.386240e+05</td>\n",
       "      <td>238624.000000</td>\n",
       "      <td>238624.000000</td>\n",
       "      <td>238624.000000</td>\n",
       "      <td>238624.000000</td>\n",
       "      <td>...</td>\n",
       "      <td>238624.000000</td>\n",
       "      <td>238624.000000</td>\n",
       "      <td>238624.000000</td>\n",
       "      <td>238624.000000</td>\n",
       "      <td>238624.000000</td>\n",
       "      <td>238624.000000</td>\n",
       "      <td>238624.000000</td>\n",
       "      <td>133391.000000</td>\n",
       "      <td>133391.000000</td>\n",
       "      <td>238624.000000</td>\n",
       "    </tr>\n",
       "    <tr>\n",
       "      <th>mean</th>\n",
       "      <td>119311.500000</td>\n",
       "      <td>5.664830e+06</td>\n",
       "      <td>20.374412</td>\n",
       "      <td>16.983940</td>\n",
       "      <td>39.183527</td>\n",
       "      <td>1.013069e+05</td>\n",
       "      <td>171.876666</td>\n",
       "      <td>11.427331</td>\n",
       "      <td>2.505035</td>\n",
       "      <td>211.917624</td>\n",
       "      <td>...</td>\n",
       "      <td>0.033064</td>\n",
       "      <td>0.011737</td>\n",
       "      <td>0.008795</td>\n",
       "      <td>0.011086</td>\n",
       "      <td>0.001150</td>\n",
       "      <td>0.000706</td>\n",
       "      <td>10.106218</td>\n",
       "      <td>42.368709</td>\n",
       "      <td>-71.009014</td>\n",
       "      <td>14.856473</td>\n",
       "    </tr>\n",
       "    <tr>\n",
       "      <th>std</th>\n",
       "      <td>68884.959655</td>\n",
       "      <td>3.374107e+06</td>\n",
       "      <td>10.778340</td>\n",
       "      <td>11.612497</td>\n",
       "      <td>15.066085</td>\n",
       "      <td>3.543491e+04</td>\n",
       "      <td>1837.426346</td>\n",
       "      <td>93.511139</td>\n",
       "      <td>46.508292</td>\n",
       "      <td>113.753780</td>\n",
       "      <td>...</td>\n",
       "      <td>0.085134</td>\n",
       "      <td>0.033429</td>\n",
       "      <td>0.027915</td>\n",
       "      <td>0.032572</td>\n",
       "      <td>0.006356</td>\n",
       "      <td>0.007353</td>\n",
       "      <td>0.684818</td>\n",
       "      <td>0.000359</td>\n",
       "      <td>0.009525</td>\n",
       "      <td>66.331867</td>\n",
       "    </tr>\n",
       "    <tr>\n",
       "      <th>min</th>\n",
       "      <td>0.000000</td>\n",
       "      <td>2.010000e+02</td>\n",
       "      <td>-2.200000</td>\n",
       "      <td>-7.000000</td>\n",
       "      <td>5.200000</td>\n",
       "      <td>5.094000e+04</td>\n",
       "      <td>-23.000000</td>\n",
       "      <td>0.700000</td>\n",
       "      <td>-0.300000</td>\n",
       "      <td>0.000000</td>\n",
       "      <td>...</td>\n",
       "      <td>0.000000</td>\n",
       "      <td>0.000000</td>\n",
       "      <td>0.000000</td>\n",
       "      <td>0.000000</td>\n",
       "      <td>0.000000</td>\n",
       "      <td>0.000000</td>\n",
       "      <td>0.000000</td>\n",
       "      <td>42.367638</td>\n",
       "      <td>-71.031013</td>\n",
       "      <td>0.000000</td>\n",
       "    </tr>\n",
       "    <tr>\n",
       "      <th>25%</th>\n",
       "      <td>59655.750000</td>\n",
       "      <td>1.691608e+06</td>\n",
       "      <td>11.600000</td>\n",
       "      <td>7.500000</td>\n",
       "      <td>25.800000</td>\n",
       "      <td>1.005120e+05</td>\n",
       "      <td>-3.400000</td>\n",
       "      <td>3.000000</td>\n",
       "      <td>0.000000</td>\n",
       "      <td>101.400000</td>\n",
       "      <td>...</td>\n",
       "      <td>0.000000</td>\n",
       "      <td>0.000000</td>\n",
       "      <td>0.000000</td>\n",
       "      <td>0.000000</td>\n",
       "      <td>0.000000</td>\n",
       "      <td>0.000000</td>\n",
       "      <td>10.000000</td>\n",
       "      <td>42.368824</td>\n",
       "      <td>-71.004852</td>\n",
       "      <td>0.000000</td>\n",
       "    </tr>\n",
       "    <tr>\n",
       "      <th>50%</th>\n",
       "      <td>119311.500000</td>\n",
       "      <td>6.483278e+06</td>\n",
       "      <td>18.000000</td>\n",
       "      <td>14.200000</td>\n",
       "      <td>39.900000</td>\n",
       "      <td>1.013790e+05</td>\n",
       "      <td>2.200000</td>\n",
       "      <td>3.000000</td>\n",
       "      <td>0.000000</td>\n",
       "      <td>269.300000</td>\n",
       "      <td>...</td>\n",
       "      <td>0.000000</td>\n",
       "      <td>0.000000</td>\n",
       "      <td>0.000000</td>\n",
       "      <td>0.000000</td>\n",
       "      <td>0.000000</td>\n",
       "      <td>0.000000</td>\n",
       "      <td>10.000000</td>\n",
       "      <td>42.368824</td>\n",
       "      <td>-71.004852</td>\n",
       "      <td>0.000000</td>\n",
       "    </tr>\n",
       "    <tr>\n",
       "      <th>75%</th>\n",
       "      <td>178967.250000</td>\n",
       "      <td>8.392749e+06</td>\n",
       "      <td>30.300000</td>\n",
       "      <td>28.100000</td>\n",
       "      <td>50.700000</td>\n",
       "      <td>1.021000e+05</td>\n",
       "      <td>7.500000</td>\n",
       "      <td>20.000000</td>\n",
       "      <td>1.000000</td>\n",
       "      <td>291.800000</td>\n",
       "      <td>...</td>\n",
       "      <td>0.035000</td>\n",
       "      <td>0.011000</td>\n",
       "      <td>0.008000</td>\n",
       "      <td>0.012000</td>\n",
       "      <td>0.001000</td>\n",
       "      <td>0.000000</td>\n",
       "      <td>10.000000</td>\n",
       "      <td>42.368824</td>\n",
       "      <td>-71.004852</td>\n",
       "      <td>0.000000</td>\n",
       "    </tr>\n",
       "    <tr>\n",
       "      <th>max</th>\n",
       "      <td>238623.000000</td>\n",
       "      <td>1.077439e+07</td>\n",
       "      <td>56.200000</td>\n",
       "      <td>74.400000</td>\n",
       "      <td>168.900000</td>\n",
       "      <td>1.697029e+07</td>\n",
       "      <td>50440.600000</td>\n",
       "      <td>20176.800000</td>\n",
       "      <td>20308.200000</td>\n",
       "      <td>2254.300000</td>\n",
       "      <td>...</td>\n",
       "      <td>7.475000</td>\n",
       "      <td>3.763000</td>\n",
       "      <td>3.905000</td>\n",
       "      <td>1.911000</td>\n",
       "      <td>0.670000</td>\n",
       "      <td>1.032000</td>\n",
       "      <td>28.000000</td>\n",
       "      <td>42.370000</td>\n",
       "      <td>-71.000000</td>\n",
       "      <td>656.000000</td>\n",
       "    </tr>\n",
       "  </tbody>\n",
       "</table>\n",
       "<p>8 rows × 41 columns</p>\n",
       "</div>"
      ],
      "text/plain": [
       "          Unnamed: 0            id       temp_box  temp_manifold  \\\n",
       "count  238624.000000  2.386240e+05  238624.000000  238624.000000   \n",
       "mean   119311.500000  5.664830e+06      20.374412      16.983940   \n",
       "std     68884.959655  3.374107e+06      10.778340      11.612497   \n",
       "min         0.000000  2.010000e+02      -2.200000      -7.000000   \n",
       "25%     59655.750000  1.691608e+06      11.600000       7.500000   \n",
       "50%    119311.500000  6.483278e+06      18.000000      14.200000   \n",
       "75%    178967.250000  8.392749e+06      30.300000      28.100000   \n",
       "max    238623.000000  1.077439e+07      56.200000      74.400000   \n",
       "\n",
       "         rh_manifold      pressure      dew_point          noise  \\\n",
       "count  238624.000000  2.386240e+05  238624.000000  238624.000000   \n",
       "mean       39.183527  1.013069e+05     171.876666      11.427331   \n",
       "std        15.066085  3.543491e+04    1837.426346      93.511139   \n",
       "min         5.200000  5.094000e+04     -23.000000       0.700000   \n",
       "25%        25.800000  1.005120e+05      -3.400000       3.000000   \n",
       "50%        39.900000  1.013790e+05       2.200000       3.000000   \n",
       "75%        50.700000  1.021000e+05       7.500000      20.000000   \n",
       "max       168.900000  1.697029e+07   50440.600000   20176.800000   \n",
       "\n",
       "               solar       wind_dir  ...           bin9          bin10  \\\n",
       "count  238624.000000  238624.000000  ...  238624.000000  238624.000000   \n",
       "mean        2.505035     211.917624  ...       0.033064       0.011737   \n",
       "std        46.508292     113.753780  ...       0.085134       0.033429   \n",
       "min        -0.300000       0.000000  ...       0.000000       0.000000   \n",
       "25%         0.000000     101.400000  ...       0.000000       0.000000   \n",
       "50%         0.000000     269.300000  ...       0.000000       0.000000   \n",
       "75%         1.000000     291.800000  ...       0.035000       0.011000   \n",
       "max     20308.200000    2254.300000  ...       7.475000       3.763000   \n",
       "\n",
       "               bin11          bin12          bin13          bin14  \\\n",
       "count  238624.000000  238624.000000  238624.000000  238624.000000   \n",
       "mean        0.008795       0.011086       0.001150       0.000706   \n",
       "std         0.027915       0.032572       0.006356       0.007353   \n",
       "min         0.000000       0.000000       0.000000       0.000000   \n",
       "25%         0.000000       0.000000       0.000000       0.000000   \n",
       "50%         0.000000       0.000000       0.000000       0.000000   \n",
       "75%         0.008000       0.012000       0.001000       0.000000   \n",
       "max         3.905000       1.911000       0.670000       1.032000   \n",
       "\n",
       "         sample_time            lat            lon           flag  \n",
       "count  238624.000000  133391.000000  133391.000000  238624.000000  \n",
       "mean       10.106218      42.368709     -71.009014      14.856473  \n",
       "std         0.684818       0.000359       0.009525      66.331867  \n",
       "min         0.000000      42.367638     -71.031013       0.000000  \n",
       "25%        10.000000      42.368824     -71.004852       0.000000  \n",
       "50%        10.000000      42.368824     -71.004852       0.000000  \n",
       "75%        10.000000      42.368824     -71.004852       0.000000  \n",
       "max        28.000000      42.370000     -71.000000     656.000000  \n",
       "\n",
       "[8 rows x 41 columns]"
      ]
     },
     "execution_count": 23,
     "metadata": {},
     "output_type": "execute_result"
    }
   ],
   "source": [
    "SN.describe()"
   ]
  },
  {
   "cell_type": "code",
   "execution_count": 24,
   "metadata": {},
   "outputs": [
    {
     "data": {
      "text/plain": [
       "Unnamed: 0           int64\n",
       "id                   int64\n",
       "timestamp           object\n",
       "timestamp_local     object\n",
       "sn                  object\n",
       "temp_box           float64\n",
       "temp_manifold      float64\n",
       "rh_manifold        float64\n",
       "pressure           float64\n",
       "dew_point          float64\n",
       "noise              float64\n",
       "solar              float64\n",
       "wind_dir           float64\n",
       "wind_speed         float64\n",
       "opc_flow           float64\n",
       "co2_raw            float64\n",
       "voc_raw            float64\n",
       "co_we              float64\n",
       "co_ae              float64\n",
       "no_we              float64\n",
       "no_ae              float64\n",
       "no2_we             float64\n",
       "no2_ae             float64\n",
       "o3_we              float64\n",
       "o3_ae              float64\n",
       "bin0               float64\n",
       "bin1               float64\n",
       "bin2               float64\n",
       "bin3               float64\n",
       "bin4               float64\n",
       "bin5               float64\n",
       "bin6               float64\n",
       "bin7               float64\n",
       "bin8               float64\n",
       "bin9               float64\n",
       "bin10              float64\n",
       "bin11              float64\n",
       "bin12              float64\n",
       "bin13              float64\n",
       "bin14              float64\n",
       "sample_time        float64\n",
       "lat                float64\n",
       "lon                float64\n",
       "flag                 int64\n",
       "device_state        object\n",
       "dtype: object"
      ]
     },
     "execution_count": 24,
     "metadata": {},
     "output_type": "execute_result"
    }
   ],
   "source": [
    "SN.dtypes"
   ]
  },
  {
   "cell_type": "code",
   "execution_count": 25,
   "metadata": {},
   "outputs": [
    {
     "data": {
      "text/plain": [
       "0         2020-02-12T18:59:31Z\n",
       "1         2020-02-12T18:58:31Z\n",
       "2         2020-02-12T18:57:31Z\n",
       "3         2020-02-12T18:56:31Z\n",
       "4         2020-02-12T18:55:31Z\n",
       "5         2020-02-12T18:54:31Z\n",
       "6         2020-02-12T18:53:31Z\n",
       "7         2020-02-12T18:52:31Z\n",
       "8         2020-02-12T18:51:31Z\n",
       "9         2020-02-12T18:50:31Z\n",
       "10        2020-02-12T18:49:31Z\n",
       "11        2020-02-12T18:48:31Z\n",
       "12        2020-02-12T18:47:31Z\n",
       "13        2020-02-12T18:46:31Z\n",
       "14        2020-02-12T18:45:31Z\n",
       "15        2020-02-12T18:44:31Z\n",
       "16        2020-02-12T18:43:31Z\n",
       "17        2020-02-12T18:42:31Z\n",
       "18        2020-02-12T18:41:31Z\n",
       "19        2020-02-12T18:40:31Z\n",
       "20        2020-02-12T18:39:31Z\n",
       "21        2020-02-12T18:38:31Z\n",
       "22        2020-02-12T18:37:31Z\n",
       "23        2020-02-12T18:36:31Z\n",
       "24        2020-02-12T18:35:31Z\n",
       "25        2020-02-12T18:34:31Z\n",
       "26        2020-02-12T18:33:31Z\n",
       "27        2020-02-12T18:32:31Z\n",
       "28        2020-02-12T18:31:31Z\n",
       "29        2020-02-12T18:30:31Z\n",
       "                  ...         \n",
       "238594    2019-03-27T20:33:00Z\n",
       "238595    2019-03-27T20:32:00Z\n",
       "238596    2019-03-27T20:31:00Z\n",
       "238597    2019-03-27T20:30:00Z\n",
       "238598    2019-03-27T20:29:00Z\n",
       "238599    2019-03-27T20:28:00Z\n",
       "238600    2019-03-27T20:27:00Z\n",
       "238601    2019-03-27T20:26:00Z\n",
       "238602    2019-03-27T20:25:00Z\n",
       "238603    2019-03-27T20:24:01Z\n",
       "238604    2019-03-27T20:23:01Z\n",
       "238605    2019-03-27T20:22:01Z\n",
       "238606    2019-03-27T20:21:01Z\n",
       "238607    2019-03-27T20:20:01Z\n",
       "238608    2019-03-27T20:19:01Z\n",
       "238609    2019-03-27T20:18:01Z\n",
       "238610    2019-03-27T20:17:01Z\n",
       "238611    2019-03-27T20:16:01Z\n",
       "238612    2019-03-27T20:15:01Z\n",
       "238613    2019-03-27T20:14:01Z\n",
       "238614    2019-03-27T20:13:01Z\n",
       "238615    2019-03-27T20:12:01Z\n",
       "238616    2019-03-27T20:11:01Z\n",
       "238617    2019-03-27T20:10:01Z\n",
       "238618    2019-03-27T20:09:01Z\n",
       "238619    2019-03-27T20:08:01Z\n",
       "238620    2019-03-27T20:07:01Z\n",
       "238621    2019-03-27T20:06:01Z\n",
       "238622    2019-03-27T20:05:01Z\n",
       "238623    2019-03-27T20:04:01Z\n",
       "Name: timestamp_local, Length: 238624, dtype: object"
      ]
     },
     "execution_count": 25,
     "metadata": {},
     "output_type": "execute_result"
    }
   ],
   "source": [
    "SN.timestamp_local"
   ]
  },
  {
   "cell_type": "code",
   "execution_count": 26,
   "metadata": {},
   "outputs": [
    {
     "data": {
      "text/plain": [
       "163934    89.862\n",
       "163933    88.047\n",
       "163932    86.637\n",
       "163931    85.029\n",
       "163930    84.791\n",
       "Name: bin1, dtype: float64"
      ]
     },
     "execution_count": 26,
     "metadata": {},
     "output_type": "execute_result"
    }
   ],
   "source": [
    "SN[col].sort_values(ascending=False).head()"
   ]
  },
  {
   "cell_type": "markdown",
   "metadata": {},
   "source": [
    "## Fixing the dates so they display better on the graphs"
   ]
  },
  {
   "cell_type": "code",
   "execution_count": 27,
   "metadata": {},
   "outputs": [
    {
     "data": {
      "text/plain": [
       "238619   2019-03-27 20:08:01\n",
       "238620   2019-03-27 20:07:01\n",
       "238621   2019-03-27 20:06:01\n",
       "238622   2019-03-27 20:05:01\n",
       "238623   2019-03-27 20:04:01\n",
       "Name: timestamp, dtype: datetime64[ns]"
      ]
     },
     "execution_count": 27,
     "metadata": {},
     "output_type": "execute_result"
    }
   ],
   "source": [
    "SN['timestamp'] = pd.to_datetime(SN.timestamp_local, infer_datetime_format=True)\n",
    "SN['timestamp'].tail()"
   ]
  },
  {
   "cell_type": "code",
   "execution_count": 28,
   "metadata": {},
   "outputs": [
    {
     "data": {
      "text/plain": [
       "0    2\n",
       "1    2\n",
       "2    2\n",
       "3    2\n",
       "4    2\n",
       "Name: timestamp, dtype: int64"
      ]
     },
     "execution_count": 28,
     "metadata": {},
     "output_type": "execute_result"
    }
   ],
   "source": [
    "SN['timestamp'].dt.dayofweek.head() # Monday = 0, Sunday = 6"
   ]
  },
  {
   "cell_type": "markdown",
   "metadata": {},
   "source": [
    "### Worst dates\n",
    "- Worst dates in the series: find the mean `pm1` values for each date, then sort by mean `pm1` to find top 10 worst dates"
   ]
  },
  {
   "cell_type": "code",
   "execution_count": 29,
   "metadata": {},
   "outputs": [
    {
     "data": {
      "text/plain": [
       "timestamp\n",
       "2019-07-04    24.220437\n",
       "2019-07-05    14.114973\n",
       "2019-06-01    12.943500\n",
       "2019-06-29     8.107019\n",
       "2019-03-27     7.549369\n",
       "2019-04-12     4.783512\n",
       "2019-03-30     4.596927\n",
       "2019-05-17     4.391362\n",
       "2020-02-11     4.370739\n",
       "2019-05-03     3.481615\n",
       "Name: bin1, dtype: float64"
      ]
     },
     "execution_count": 29,
     "metadata": {},
     "output_type": "execute_result"
    }
   ],
   "source": [
    "data = SN.groupby(SN['timestamp'].dt.date).mean().sort_values(col, ascending=False)[col]\n",
    "data[:10]"
   ]
  },
  {
   "cell_type": "markdown",
   "metadata": {},
   "source": [
    "### Worst Months\n",
    "- Worst months in the series: find the mean `pm1` values for each month, then sort by mean `pm1` to find top 10 worst months. Question: where is August for SN46??!"
   ]
  },
  {
   "cell_type": "code",
   "execution_count": 30,
   "metadata": {},
   "outputs": [
    {
     "data": {
      "text/plain": [
       "timestamp\n",
       "7     17.532457\n",
       "6      9.099118\n",
       "3      2.705433\n",
       "5      1.547442\n",
       "4      1.489911\n",
       "2      0.830768\n",
       "9      0.584601\n",
       "10     0.556162\n",
       "11     0.473776\n",
       "12     0.438538\n",
       "1      0.437991\n",
       "Name: bin1, dtype: float64"
      ]
     },
     "execution_count": 30,
     "metadata": {},
     "output_type": "execute_result"
    }
   ],
   "source": [
    "months = SN['timestamp'].dt.month\n",
    "data = SN.groupby(months).mean()\n",
    "data = data.sort_values(col, ascending=False)\n",
    "data[col]"
   ]
  },
  {
   "cell_type": "code",
   "execution_count": 31,
   "metadata": {},
   "outputs": [
    {
     "data": {
      "text/plain": [
       "Text(0, 0.5, 'bin1')"
      ]
     },
     "execution_count": 31,
     "metadata": {},
     "output_type": "execute_result"
    },
    {
     "data": {
      "image/png": "[encoded data removed]",
      "text/plain": [
       "<Figure size 432x288 with 1 Axes>"
      ]
     },
     "metadata": {
      "needs_background": "light"
     },
     "output_type": "display_data"
    }
   ],
   "source": [
    "plt.scatter(x=data[col].index, y=data[col])\n",
    "plt.xlabel('month')\n",
    "plt.ylabel(col)"
   ]
  },
  {
   "cell_type": "markdown",
   "metadata": {},
   "source": [
    "### Day of week\n",
    "- Data quality from Monday to Sunday"
   ]
  },
  {
   "cell_type": "code",
   "execution_count": 32,
   "metadata": {},
   "outputs": [],
   "source": [
    "DAY_OF_WEEK = ['Sun', 'Mon', 'Tue', 'Wed', 'Thu', 'Fri', 'Sat']"
   ]
  },
  {
   "cell_type": "code",
   "execution_count": 33,
   "metadata": {},
   "outputs": [
    {
     "name": "stdout",
     "output_type": "stream",
     "text": [
      "Sun \t mean: 0.86 \t median: 0.36 \t max: 54.53 \t day_max: 2019-04-15 14:48:07\n",
      "Mon \t mean: 0.91 \t median: 0.43 \t max: 11.62 \t day_max: 2020-02-11 14:38:42\n",
      "Tue \t mean: 0.74 \t median: 0.39 \t max: 35.81 \t day_max: 2019-03-27 20:40:00\n",
      "Wed \t mean: 0.89 \t median: 0.38 \t max: 89.86 \t day_max: 2019-07-04 14:57:17\n",
      "Thu \t mean: 1.18 \t median: 0.42 \t max: 57.54 \t day_max: 2019-04-12 16:50:33\n",
      "Fri \t mean: 0.98 \t median: 0.40 \t max: 14.67 \t day_max: 2019-06-01 11:38:23\n",
      "Sat \t mean: 0.86 \t median: 0.45 \t max: 13.30 \t day_max: 2019-09-29 14:21:22\n"
     ]
    }
   ],
   "source": [
    "for name, group in SN.groupby(SN['timestamp'].dt.dayofweek):\n",
    "    group_data = group[['timestamp', col]]\n",
    "    print(\"{} \\t mean: {:.2f} \\t median: {:.2f} \\t max: {:.2f} \\t day_max: {}\".format(DAY_OF_WEEK[name], \n",
    "                                                                group_data[col].mean(), \n",
    "                                                                group_data[col].median(), \n",
    "                                                                group_data[col][group_data[col].idxmax()],\n",
    "                                                                group_data['timestamp'][group_data[col].idxmax()]))"
   ]
  },
  {
   "cell_type": "markdown",
   "metadata": {},
   "source": [
    "### Hours\n",
    "- This is interesting. Bad air quality during the night?"
   ]
  },
  {
   "cell_type": "code",
   "execution_count": 34,
   "metadata": {},
   "outputs": [
    {
     "name": "stdout",
     "output_type": "stream",
     "text": [
      "timestamp\n",
      "0     0.898272\n",
      "1     0.911245\n",
      "2     0.911145\n",
      "3     0.901380\n",
      "4     0.910982\n",
      "5     0.911939\n",
      "6     0.922713\n",
      "7     0.937501\n",
      "8     0.904492\n",
      "9     0.862026\n",
      "10    0.819995\n",
      "11    0.844794\n",
      "12    0.874353\n",
      "13    0.857611\n",
      "14    1.007678\n",
      "15    1.266531\n",
      "16    0.981901\n",
      "17    0.769675\n",
      "18    0.794760\n",
      "19    0.925264\n",
      "20    0.953690\n",
      "21    1.007020\n",
      "22    0.986721\n",
      "23    0.923534\n",
      "Name: bin1, dtype: float64\n"
     ]
    },
    {
     "data": {
      "text/plain": [
       "Text(0, 0.5, 'bin1')"
      ]
     },
     "execution_count": 34,
     "metadata": {},
     "output_type": "execute_result"
    },
    {
     "data": {
      "image/png": "[encoded data removed]",
      "text/plain": [
       "<Figure size 432x288 with 1 Axes>"
      ]
     },
     "metadata": {
      "needs_background": "light"
     },
     "output_type": "display_data"
    }
   ],
   "source": [
    "hours = SN['timestamp'].dt.hour\n",
    "data = SN.groupby(hours).mean()\n",
    "print(data[col])\n",
    "data[col].plot()\n",
    "plt.xlabel('hour')\n",
    "plt.ylabel(col)"
   ]
  },
  {
   "cell_type": "code",
   "execution_count": 35,
   "metadata": {},
   "outputs": [
    {
     "data": {
      "image/png": "[encoded data removed]",
      "text/plain": [
       "<Figure size 1296x864 with 7 Axes>"
      ]
     },
     "metadata": {
      "needs_background": "light"
     },
     "output_type": "display_data"
    }
   ],
   "source": [
    "# Mean AQ by hour by day of week\n",
    "fig = plt.figure(figsize=(18, 12))\n",
    "fig.subplots_adjust(hspace=.5, wspace=0.5)\n",
    "hours = SN['timestamp'].dt.hour\n",
    "min_val = .12\n",
    "max_val = 1\n",
    "for i in range(len(DAY_OF_WEEK)):\n",
    "    ax = fig.add_subplot(3, 3, i+1)\n",
    "    data = SN[SN['timestamp'].dt.dayofweek == i].groupby(hours).mean()\n",
    "    data[col]\n",
    "    ax.plot(data[col])\n",
    "    plt.title(DAY_OF_WEEK[i])\n",
    "    plt.xlabel('hour')\n",
    "    plt.ylabel(col)"
   ]
  }
 ],
 "metadata": {
  "kernelspec": {
   "display_name": "Python 3",
   "language": "python",
   "name": "python3"
  },
  "language_info": {
   "codemirror_mode": {
    "name": "ipython",
    "version": 3
   },
   "file_extension": ".py",
   "mimetype": "text/x-python",
   "name": "python",
   "nbconvert_exporter": "python",
   "pygments_lexer": "ipython3",
   "version": "3.6.10"
  }
 },
 "nbformat": 4,
 "nbformat_minor": 4
}
