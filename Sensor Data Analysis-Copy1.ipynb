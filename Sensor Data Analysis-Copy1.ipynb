{
 "cells": [
  {
   "cell_type": "markdown",
   "metadata": {},
   "source": [
    "## Some initial stats and plots"
   ]
  },
  {
   "cell_type": "code",
   "execution_count": 65,
   "metadata": {},
   "outputs": [],
   "source": [
    "import numpy as np\n",
    "import pandas as pd\n",
    "%matplotlib inline\n",
    "import matplotlib.pyplot as plt\n",
    "plt.close('all');\n",
    "\n",
    "SN45 = pd.read_csv('data/SN000-045.csv');\n",
    "SN46 = pd.read_csv('data/SN000-046.csv');\n",
    "SN49 = pd.read_csv('data/SN000-049.csv');\n",
    "SN62 = pd.read_csv('data/SN000-062.csv');\n",
    "SN67 = pd.read_csv('data/SN000-067.csv');\n",
    "SN72 = pd.read_csv('data/SN000-072.csv');"
   ]
  },
  {
   "cell_type": "code",
   "execution_count": 73,
   "metadata": {},
   "outputs": [],
   "source": [
    "SN = SN45"
   ]
  },
  {
   "cell_type": "code",
   "execution_count": 74,
   "metadata": {},
   "outputs": [
    {
     "data": {
      "text/html": [
       "<div>\n",
       "<style scoped>\n",
       "    .dataframe tbody tr th:only-of-type {\n",
       "        vertical-align: middle;\n",
       "    }\n",
       "\n",
       "    .dataframe tbody tr th {\n",
       "        vertical-align: top;\n",
       "    }\n",
       "\n",
       "    .dataframe thead th {\n",
       "        text-align: right;\n",
       "    }\n",
       "</style>\n",
       "<table border=\"1\" class=\"dataframe\">\n",
       "  <thead>\n",
       "    <tr style=\"text-align: right;\">\n",
       "      <th></th>\n",
       "      <th>Unnamed: 0</th>\n",
       "      <th>id</th>\n",
       "      <th>raw_table_id</th>\n",
       "      <th>temp_box</th>\n",
       "      <th>temp_manifold</th>\n",
       "      <th>rh_manifold</th>\n",
       "      <th>pressure</th>\n",
       "      <th>noise</th>\n",
       "      <th>solar</th>\n",
       "      <th>wind_dir</th>\n",
       "      <th>...</th>\n",
       "      <th>lon</th>\n",
       "      <th>co2_model_id</th>\n",
       "      <th>voc_model_id</th>\n",
       "      <th>co_model_id</th>\n",
       "      <th>no_model_id</th>\n",
       "      <th>no2_model_id</th>\n",
       "      <th>o3_model_id</th>\n",
       "      <th>pm1_model_id</th>\n",
       "      <th>pm25_model_id</th>\n",
       "      <th>pm10_model_id</th>\n",
       "    </tr>\n",
       "  </thead>\n",
       "  <tbody>\n",
       "    <tr>\n",
       "      <th>count</th>\n",
       "      <td>340417.000000</td>\n",
       "      <td>3.404170e+05</td>\n",
       "      <td>3.404170e+05</td>\n",
       "      <td>340417.000000</td>\n",
       "      <td>340417.000000</td>\n",
       "      <td>340417.000000</td>\n",
       "      <td>340417.000000</td>\n",
       "      <td>340417.000000</td>\n",
       "      <td>340417.000000</td>\n",
       "      <td>340417.000000</td>\n",
       "      <td>...</td>\n",
       "      <td>261607.000000</td>\n",
       "      <td>0.0</td>\n",
       "      <td>0.0</td>\n",
       "      <td>0.0</td>\n",
       "      <td>0.0</td>\n",
       "      <td>0.0</td>\n",
       "      <td>0.0</td>\n",
       "      <td>340417.000000</td>\n",
       "      <td>340417.000000</td>\n",
       "      <td>340417.000000</td>\n",
       "    </tr>\n",
       "    <tr>\n",
       "      <th>mean</th>\n",
       "      <td>170208.000000</td>\n",
       "      <td>7.559292e+06</td>\n",
       "      <td>7.937881e+06</td>\n",
       "      <td>14.152612</td>\n",
       "      <td>9.321420</td>\n",
       "      <td>47.216970</td>\n",
       "      <td>101832.091505</td>\n",
       "      <td>1410.016201</td>\n",
       "      <td>0.327672</td>\n",
       "      <td>155.454300</td>\n",
       "      <td>...</td>\n",
       "      <td>-71.013404</td>\n",
       "      <td>NaN</td>\n",
       "      <td>NaN</td>\n",
       "      <td>NaN</td>\n",
       "      <td>NaN</td>\n",
       "      <td>NaN</td>\n",
       "      <td>NaN</td>\n",
       "      <td>420.126645</td>\n",
       "      <td>421.126645</td>\n",
       "      <td>422.126645</td>\n",
       "    </tr>\n",
       "    <tr>\n",
       "      <th>std</th>\n",
       "      <td>98270.067631</td>\n",
       "      <td>3.634592e+06</td>\n",
       "      <td>1.926938e+06</td>\n",
       "      <td>9.434596</td>\n",
       "      <td>10.451416</td>\n",
       "      <td>14.630738</td>\n",
       "      <td>2406.030821</td>\n",
       "      <td>206.148764</td>\n",
       "      <td>1.264543</td>\n",
       "      <td>122.169158</td>\n",
       "      <td>...</td>\n",
       "      <td>0.007097</td>\n",
       "      <td>NaN</td>\n",
       "      <td>NaN</td>\n",
       "      <td>NaN</td>\n",
       "      <td>NaN</td>\n",
       "      <td>NaN</td>\n",
       "      <td>NaN</td>\n",
       "      <td>210.087265</td>\n",
       "      <td>210.087265</td>\n",
       "      <td>210.087265</td>\n",
       "    </tr>\n",
       "    <tr>\n",
       "      <th>min</th>\n",
       "      <td>0.000000</td>\n",
       "      <td>5.926680e+05</td>\n",
       "      <td>1.942981e+06</td>\n",
       "      <td>-2.200000</td>\n",
       "      <td>-8.400000</td>\n",
       "      <td>7.500000</td>\n",
       "      <td>46100.000000</td>\n",
       "      <td>2.800000</td>\n",
       "      <td>-0.100000</td>\n",
       "      <td>0.000000</td>\n",
       "      <td>...</td>\n",
       "      <td>-71.026237</td>\n",
       "      <td>NaN</td>\n",
       "      <td>NaN</td>\n",
       "      <td>NaN</td>\n",
       "      <td>NaN</td>\n",
       "      <td>NaN</td>\n",
       "      <td>NaN</td>\n",
       "      <td>26.000000</td>\n",
       "      <td>27.000000</td>\n",
       "      <td>28.000000</td>\n",
       "    </tr>\n",
       "    <tr>\n",
       "      <th>25%</th>\n",
       "      <td>85104.000000</td>\n",
       "      <td>4.163743e+06</td>\n",
       "      <td>6.226009e+06</td>\n",
       "      <td>7.500000</td>\n",
       "      <td>2.200000</td>\n",
       "      <td>36.100000</td>\n",
       "      <td>100968.000000</td>\n",
       "      <td>1457.000000</td>\n",
       "      <td>0.000000</td>\n",
       "      <td>37.700000</td>\n",
       "      <td>...</td>\n",
       "      <td>-71.016518</td>\n",
       "      <td>NaN</td>\n",
       "      <td>NaN</td>\n",
       "      <td>NaN</td>\n",
       "      <td>NaN</td>\n",
       "      <td>NaN</td>\n",
       "      <td>NaN</td>\n",
       "      <td>358.000000</td>\n",
       "      <td>359.000000</td>\n",
       "      <td>360.000000</td>\n",
       "    </tr>\n",
       "    <tr>\n",
       "      <th>50%</th>\n",
       "      <td>170208.000000</td>\n",
       "      <td>7.060309e+06</td>\n",
       "      <td>9.087567e+06</td>\n",
       "      <td>12.800000</td>\n",
       "      <td>7.700000</td>\n",
       "      <td>44.100000</td>\n",
       "      <td>101920.000000</td>\n",
       "      <td>1467.300000</td>\n",
       "      <td>0.200000</td>\n",
       "      <td>138.000000</td>\n",
       "      <td>...</td>\n",
       "      <td>-71.016518</td>\n",
       "      <td>NaN</td>\n",
       "      <td>NaN</td>\n",
       "      <td>NaN</td>\n",
       "      <td>NaN</td>\n",
       "      <td>NaN</td>\n",
       "      <td>NaN</td>\n",
       "      <td>573.000000</td>\n",
       "      <td>574.000000</td>\n",
       "      <td>575.000000</td>\n",
       "    </tr>\n",
       "    <tr>\n",
       "      <th>75%</th>\n",
       "      <td>255312.000000</td>\n",
       "      <td>1.077564e+07</td>\n",
       "      <td>9.459102e+06</td>\n",
       "      <td>19.100000</td>\n",
       "      <td>14.300000</td>\n",
       "      <td>59.600000</td>\n",
       "      <td>102746.000000</td>\n",
       "      <td>1476.000000</td>\n",
       "      <td>0.700000</td>\n",
       "      <td>278.200000</td>\n",
       "      <td>...</td>\n",
       "      <td>-71.001472</td>\n",
       "      <td>NaN</td>\n",
       "      <td>NaN</td>\n",
       "      <td>NaN</td>\n",
       "      <td>NaN</td>\n",
       "      <td>NaN</td>\n",
       "      <td>NaN</td>\n",
       "      <td>573.000000</td>\n",
       "      <td>574.000000</td>\n",
       "      <td>575.000000</td>\n",
       "    </tr>\n",
       "    <tr>\n",
       "      <th>max</th>\n",
       "      <td>340416.000000</td>\n",
       "      <td>1.430130e+07</td>\n",
       "      <td>1.077442e+07</td>\n",
       "      <td>264.700000</td>\n",
       "      <td>1282.800000</td>\n",
       "      <td>357.500000</td>\n",
       "      <td>985603.000000</td>\n",
       "      <td>9964.000000</td>\n",
       "      <td>466.900000</td>\n",
       "      <td>657.800000</td>\n",
       "      <td>...</td>\n",
       "      <td>-71.001472</td>\n",
       "      <td>NaN</td>\n",
       "      <td>NaN</td>\n",
       "      <td>NaN</td>\n",
       "      <td>NaN</td>\n",
       "      <td>NaN</td>\n",
       "      <td>NaN</td>\n",
       "      <td>573.000000</td>\n",
       "      <td>574.000000</td>\n",
       "      <td>575.000000</td>\n",
       "    </tr>\n",
       "  </tbody>\n",
       "</table>\n",
       "<p>8 rows × 31 columns</p>\n",
       "</div>"
      ],
      "text/plain": [
       "          Unnamed: 0            id  raw_table_id       temp_box  \\\n",
       "count  340417.000000  3.404170e+05  3.404170e+05  340417.000000   \n",
       "mean   170208.000000  7.559292e+06  7.937881e+06      14.152612   \n",
       "std     98270.067631  3.634592e+06  1.926938e+06       9.434596   \n",
       "min         0.000000  5.926680e+05  1.942981e+06      -2.200000   \n",
       "25%     85104.000000  4.163743e+06  6.226009e+06       7.500000   \n",
       "50%    170208.000000  7.060309e+06  9.087567e+06      12.800000   \n",
       "75%    255312.000000  1.077564e+07  9.459102e+06      19.100000   \n",
       "max    340416.000000  1.430130e+07  1.077442e+07     264.700000   \n",
       "\n",
       "       temp_manifold    rh_manifold       pressure          noise  \\\n",
       "count  340417.000000  340417.000000  340417.000000  340417.000000   \n",
       "mean        9.321420      47.216970  101832.091505    1410.016201   \n",
       "std        10.451416      14.630738    2406.030821     206.148764   \n",
       "min        -8.400000       7.500000   46100.000000       2.800000   \n",
       "25%         2.200000      36.100000  100968.000000    1457.000000   \n",
       "50%         7.700000      44.100000  101920.000000    1467.300000   \n",
       "75%        14.300000      59.600000  102746.000000    1476.000000   \n",
       "max      1282.800000     357.500000  985603.000000    9964.000000   \n",
       "\n",
       "               solar       wind_dir  ...            lon  co2_model_id  \\\n",
       "count  340417.000000  340417.000000  ...  261607.000000           0.0   \n",
       "mean        0.327672     155.454300  ...     -71.013404           NaN   \n",
       "std         1.264543     122.169158  ...       0.007097           NaN   \n",
       "min        -0.100000       0.000000  ...     -71.026237           NaN   \n",
       "25%         0.000000      37.700000  ...     -71.016518           NaN   \n",
       "50%         0.200000     138.000000  ...     -71.016518           NaN   \n",
       "75%         0.700000     278.200000  ...     -71.001472           NaN   \n",
       "max       466.900000     657.800000  ...     -71.001472           NaN   \n",
       "\n",
       "       voc_model_id  co_model_id  no_model_id  no2_model_id  o3_model_id  \\\n",
       "count           0.0          0.0          0.0           0.0          0.0   \n",
       "mean            NaN          NaN          NaN           NaN          NaN   \n",
       "std             NaN          NaN          NaN           NaN          NaN   \n",
       "min             NaN          NaN          NaN           NaN          NaN   \n",
       "25%             NaN          NaN          NaN           NaN          NaN   \n",
       "50%             NaN          NaN          NaN           NaN          NaN   \n",
       "75%             NaN          NaN          NaN           NaN          NaN   \n",
       "max             NaN          NaN          NaN           NaN          NaN   \n",
       "\n",
       "        pm1_model_id  pm25_model_id  pm10_model_id  \n",
       "count  340417.000000  340417.000000  340417.000000  \n",
       "mean      420.126645     421.126645     422.126645  \n",
       "std       210.087265     210.087265     210.087265  \n",
       "min        26.000000      27.000000      28.000000  \n",
       "25%       358.000000     359.000000     360.000000  \n",
       "50%       573.000000     574.000000     575.000000  \n",
       "75%       573.000000     574.000000     575.000000  \n",
       "max       573.000000     574.000000     575.000000  \n",
       "\n",
       "[8 rows x 31 columns]"
      ]
     },
     "execution_count": 74,
     "metadata": {},
     "output_type": "execute_result"
    }
   ],
   "source": [
    "SN.describe()"
   ]
  },
  {
   "cell_type": "code",
   "execution_count": 75,
   "metadata": {},
   "outputs": [
    {
     "data": {
      "text/plain": [
       "Unnamed: 0           int64\n",
       "id                   int64\n",
       "timestamp           object\n",
       "timestamp_local     object\n",
       "sn                  object\n",
       "raw_table_id         int64\n",
       "temp_box           float64\n",
       "temp_manifold      float64\n",
       "rh_manifold        float64\n",
       "pressure           float64\n",
       "noise              float64\n",
       "solar              float64\n",
       "wind_dir           float64\n",
       "wind_speed         float64\n",
       "co2                float64\n",
       "voc                float64\n",
       "co                 float64\n",
       "no                 float64\n",
       "no2                float64\n",
       "o3                 float64\n",
       "pm1                float64\n",
       "pm25               float64\n",
       "pm10               float64\n",
       "lat                float64\n",
       "lon                float64\n",
       "device_state        object\n",
       "co2_model_id       float64\n",
       "voc_model_id       float64\n",
       "co_model_id        float64\n",
       "no_model_id        float64\n",
       "no2_model_id       float64\n",
       "o3_model_id        float64\n",
       "pm1_model_id         int64\n",
       "pm25_model_id        int64\n",
       "pm10_model_id        int64\n",
       "dtype: object"
      ]
     },
     "execution_count": 75,
     "metadata": {},
     "output_type": "execute_result"
    }
   ],
   "source": [
    "SN.dtypes"
   ]
  },
  {
   "cell_type": "code",
   "execution_count": 76,
   "metadata": {},
   "outputs": [
    {
     "data": {
      "text/plain": [
       "0         2020-02-12T18:59:04Z\n",
       "1         2020-02-12T18:58:04Z\n",
       "2         2020-02-12T18:57:04Z\n",
       "3         2020-02-12T18:56:04Z\n",
       "4         2020-02-12T18:55:04Z\n",
       "5         2020-02-12T18:54:04Z\n",
       "6         2020-02-12T18:53:04Z\n",
       "7         2020-02-12T18:52:04Z\n",
       "8         2020-02-12T18:51:04Z\n",
       "9         2020-02-12T18:50:04Z\n",
       "10        2020-02-12T18:49:04Z\n",
       "11        2020-02-12T18:48:04Z\n",
       "12        2020-02-12T18:47:04Z\n",
       "13        2020-02-12T18:46:04Z\n",
       "14        2020-02-12T18:45:04Z\n",
       "15        2020-02-12T18:44:04Z\n",
       "16        2020-02-12T18:43:04Z\n",
       "17        2020-02-12T18:42:04Z\n",
       "18        2020-02-12T18:41:04Z\n",
       "19        2020-02-12T18:40:04Z\n",
       "20        2020-02-12T18:39:04Z\n",
       "21        2020-02-12T18:38:04Z\n",
       "22        2020-02-12T18:37:04Z\n",
       "23        2020-02-12T18:36:04Z\n",
       "24        2020-02-12T18:35:04Z\n",
       "25        2020-02-12T18:34:04Z\n",
       "26        2020-02-12T18:33:04Z\n",
       "27        2020-02-12T18:32:04Z\n",
       "28        2020-02-12T18:31:04Z\n",
       "29        2020-02-12T18:30:04Z\n",
       "                  ...         \n",
       "340387    2019-06-24T21:03:14Z\n",
       "340388    2019-06-24T21:01:14Z\n",
       "340389    2019-06-24T20:59:14Z\n",
       "340390    2019-06-24T20:57:14Z\n",
       "340391    2019-06-24T20:55:14Z\n",
       "340392    2019-06-24T20:53:14Z\n",
       "340393    2019-06-24T20:51:14Z\n",
       "340394    2019-06-24T20:49:14Z\n",
       "340395    2019-06-24T20:47:14Z\n",
       "340396    2019-06-24T20:45:14Z\n",
       "340397    2019-06-24T20:43:14Z\n",
       "340398    2019-06-24T20:41:14Z\n",
       "340399    2019-06-24T20:39:14Z\n",
       "340400    2019-06-24T20:37:14Z\n",
       "340401    2019-06-24T20:35:14Z\n",
       "340402    2019-06-24T20:33:14Z\n",
       "340403    2019-06-24T20:31:14Z\n",
       "340404    2019-06-24T20:29:14Z\n",
       "340405    2019-06-24T20:27:14Z\n",
       "340406    2019-06-24T20:25:14Z\n",
       "340407    2019-06-24T20:23:54Z\n",
       "340408    2019-05-22T12:36:38Z\n",
       "340409    2019-05-22T12:35:38Z\n",
       "340410    2019-05-22T12:34:38Z\n",
       "340411    2019-05-22T12:33:15Z\n",
       "340412    2019-05-22T12:25:13Z\n",
       "340413    2019-05-22T12:24:13Z\n",
       "340414    2019-05-22T12:23:13Z\n",
       "340415    2019-05-22T12:22:23Z\n",
       "340416    2019-05-22T12:21:53Z\n",
       "Name: timestamp_local, Length: 340417, dtype: object"
      ]
     },
     "execution_count": 76,
     "metadata": {},
     "output_type": "execute_result"
    }
   ],
   "source": [
    "SN.timestamp_local"
   ]
  },
  {
   "cell_type": "code",
   "execution_count": 77,
   "metadata": {},
   "outputs": [
    {
     "data": {
      "text/plain": [
       "327544    20.540221\n",
       "327543    17.283479\n",
       "327545    13.603909\n",
       "327542    12.153484\n",
       "327541     8.082963\n",
       "Name: pm1, dtype: float64"
      ]
     },
     "execution_count": 77,
     "metadata": {},
     "output_type": "execute_result"
    }
   ],
   "source": [
    "SN.pm1.sort_values(ascending=False).head()"
   ]
  },
  {
   "cell_type": "code",
   "execution_count": 80,
   "metadata": {},
   "outputs": [
    {
     "name": "stdout",
     "output_type": "stream",
     "text": [
      "0         0.144400\n",
      "1         0.142400\n",
      "2         0.140900\n",
      "3         0.134200\n",
      "4         0.138900\n",
      "5         0.137700\n",
      "6         0.132200\n",
      "7         0.132500\n",
      "8         0.132300\n",
      "9         0.130300\n",
      "10        0.133900\n",
      "11        0.141200\n",
      "12        0.135300\n",
      "13        0.130900\n",
      "14        0.138800\n",
      "15        0.135800\n",
      "16        0.144700\n",
      "17        0.140100\n",
      "18        0.127000\n",
      "19        0.123700\n",
      "20        0.128000\n",
      "21        0.129000\n",
      "22        0.127200\n",
      "23        0.127700\n",
      "24        0.130500\n",
      "25        0.129400\n",
      "26        0.130900\n",
      "27        0.131600\n",
      "28        0.131800\n",
      "29        0.129000\n",
      "            ...   \n",
      "340387    0.793566\n",
      "340388    0.787697\n",
      "340389    0.787527\n",
      "340390    0.771089\n",
      "340391    0.769359\n",
      "340392    0.767346\n",
      "340393    0.766833\n",
      "340394    0.775496\n",
      "340395    0.796133\n",
      "340396    0.768267\n",
      "340397    0.762736\n",
      "340398    0.759178\n",
      "340399    0.757616\n",
      "340400    0.771651\n",
      "340401    0.757226\n",
      "340402    0.756563\n",
      "340403    0.744625\n",
      "340404    1.009393\n",
      "340405    0.756518\n",
      "340406    0.732151\n",
      "340407    0.812184\n",
      "340408    0.000000\n",
      "340409    0.000000\n",
      "340410    0.000000\n",
      "340411    0.000000\n",
      "340412    0.000000\n",
      "340413    0.000000\n",
      "340414    0.000000\n",
      "340415    0.000000\n",
      "340416    0.000000\n",
      "Name: pm1, Length: 340417, dtype: float64\n"
     ]
    },
    {
     "data": {
      "text/plain": [
       "<matplotlib.axes._subplots.AxesSubplot at 0x27380e48358>"
      ]
     },
     "execution_count": 80,
     "metadata": {},
     "output_type": "execute_result"
    },
    {
     "data": {
      "image/png": "[encoded data removed]",
      "text/plain": [
       "<Figure size 432x288 with 1 Axes>"
      ]
     },
     "metadata": {
      "needs_background": "light"
     },
     "output_type": "display_data"
    }
   ],
   "source": [
    "SN_pm1 = pd.Series(SN.pm1)\n",
    "print(SN_pm1)\n",
    "SN_pm1.plot()"
   ]
  },
  {
   "cell_type": "markdown",
   "metadata": {},
   "source": [
    "## Fixing the dates so they display better on the graphs"
   ]
  },
  {
   "cell_type": "code",
   "execution_count": 81,
   "metadata": {},
   "outputs": [
    {
     "data": {
      "text/plain": [
       "340412   2019-05-22 12:25:13\n",
       "340413   2019-05-22 12:24:13\n",
       "340414   2019-05-22 12:23:13\n",
       "340415   2019-05-22 12:22:23\n",
       "340416   2019-05-22 12:21:53\n",
       "Name: timestamp, dtype: datetime64[ns]"
      ]
     },
     "execution_count": 81,
     "metadata": {},
     "output_type": "execute_result"
    }
   ],
   "source": [
    "SN['timestamp'] = pd.to_datetime(SN.timestamp_local, infer_datetime_format=True)\n",
    "SN['timestamp'].tail()"
   ]
  },
  {
   "cell_type": "code",
   "execution_count": 82,
   "metadata": {},
   "outputs": [
    {
     "data": {
      "text/plain": [
       "0    2\n",
       "1    2\n",
       "2    2\n",
       "3    2\n",
       "4    2\n",
       "Name: timestamp, dtype: int64"
      ]
     },
     "execution_count": 82,
     "metadata": {},
     "output_type": "execute_result"
    }
   ],
   "source": [
    "SN['timestamp'].dt.dayofweek.head() # Monday = 0, Sunday = 6"
   ]
  },
  {
   "cell_type": "markdown",
   "metadata": {},
   "source": [
    "### Worst dates\n",
    "- Worst dates in the series: find the mean `pm1` values for each date, then sort by mean `pm1` to find top 10 worst dates"
   ]
  },
  {
   "cell_type": "code",
   "execution_count": 83,
   "metadata": {},
   "outputs": [
    {
     "data": {
      "text/plain": [
       "timestamp\n",
       "2019-07-20    2.228390\n",
       "2019-07-29    2.027742\n",
       "2019-06-25    1.822841\n",
       "2020-02-11    1.440502\n",
       "2019-07-26    1.388845\n",
       "2019-07-28    1.388461\n",
       "2019-07-22    1.129548\n",
       "2019-06-29    0.981711\n",
       "2019-07-24    0.981528\n",
       "2019-07-27    0.979742\n",
       "Name: pm1, dtype: float64"
      ]
     },
     "execution_count": 83,
     "metadata": {},
     "output_type": "execute_result"
    }
   ],
   "source": [
    "data = SN.groupby(SN['timestamp'].dt.date).mean().sort_values('pm1', ascending=False)['pm1']\n",
    "data[:10]"
   ]
  },
  {
   "cell_type": "markdown",
   "metadata": {},
   "source": [
    "### Worst Months\n",
    "- Worst months in the series: find the mean `pm1` values for each month, then sort by mean `pm1` to find top 10 worst months. Question: where is August??!"
   ]
  },
  {
   "cell_type": "code",
   "execution_count": 112,
   "metadata": {},
   "outputs": [
    {
     "data": {
      "text/plain": [
       "timestamp\n",
       "7     1.081302\n",
       "6     1.025999\n",
       "2     0.444522\n",
       "1     0.293280\n",
       "11    0.283217\n",
       "12    0.267494\n",
       "10    0.222833\n",
       "9     0.192061\n",
       "8     0.117467\n",
       "5     0.000000\n",
       "Name: pm1, dtype: float64"
      ]
     },
     "execution_count": 112,
     "metadata": {},
     "output_type": "execute_result"
    }
   ],
   "source": [
    "months = SN['timestamp'].dt.month\n",
    "data = SN.groupby(months).mean()\n",
    "data = data.sort_values('pm1', ascending=False)\n",
    "data['pm1']"
   ]
  },
  {
   "cell_type": "code",
   "execution_count": 113,
   "metadata": {},
   "outputs": [
    {
     "data": {
      "text/plain": [
       "Text(0, 0.5, 'pm1')"
      ]
     },
     "execution_count": 113,
     "metadata": {},
     "output_type": "execute_result"
    },
    {
     "data": {
      "image/png": "[encoded data removed]",
      "text/plain": [
       "<Figure size 432x288 with 1 Axes>"
      ]
     },
     "metadata": {
      "needs_background": "light"
     },
     "output_type": "display_data"
    }
   ],
   "source": [
    "plt.scatter(x=data['pm1'].index, y=data['pm1'])\n",
    "plt.xlabel('month')\n",
    "plt.ylabel('pm1')"
   ]
  },
  {
   "cell_type": "markdown",
   "metadata": {},
   "source": [
    "### Day of week\n",
    "- Data quality from Monday to Sunday"
   ]
  },
  {
   "cell_type": "code",
   "execution_count": 146,
   "metadata": {},
   "outputs": [],
   "source": [
    "DAY_OF_WEEK = ['Sunday', 'Monday', 'Tuesday', 'Wednesday', 'Thursday', 'Friday', 'Saturday']"
   ]
  },
  {
   "cell_type": "code",
   "execution_count": 115,
   "metadata": {},
   "outputs": [
    {
     "name": "stdout",
     "output_type": "stream",
     "text": [
      "Sun \t mean: 0.27 \t median: 0.14 \t max: 20.54 \t day_max: 2019-07-29 14:34:32\n",
      "Mon \t mean: 0.34 \t median: 0.17 \t max: 7.64 \t day_max: 2019-06-25 12:57:08\n",
      "Tue \t mean: 0.36 \t median: 0.27 \t max: 5.44 \t day_max: 2020-01-08 22:38:37\n",
      "Wed \t mean: 0.28 \t median: 0.22 \t max: 2.52 \t day_max: 2019-07-25 12:51:06\n",
      "Thu \t mean: 0.25 \t median: 0.13 \t max: 4.22 \t day_max: 2019-07-26 16:34:56\n",
      "Fri \t mean: 0.29 \t median: 0.14 \t max: 4.46 \t day_max: 2019-07-20 03:31:44\n",
      "Sat \t mean: 0.36 \t median: 0.17 \t max: 6.72 \t day_max: 2020-02-09 20:15:41\n"
     ]
    }
   ],
   "source": [
    "for name, group in SN.groupby(SN['timestamp'].dt.dayofweek):\n",
    "    group_data = group[['timestamp', 'pm1']]\n",
    "    print(\"{} \\t mean: {:.2f} \\t median: {:.2f} \\t max: {:.2f} \\t day_max: {}\".format(DAY_OF_WEEK[name], \n",
    "                                                                group_data['pm1'].mean(), \n",
    "                                                                group_data['pm1'].median(), \n",
    "                                                                group_data['pm1'][group_data['pm1'].idxmax()],\n",
    "                                                                group_data['timestamp'][group_data['pm1'].idxmax()]))"
   ]
  },
  {
   "cell_type": "markdown",
   "metadata": {},
   "source": [
    "### Hours\n",
    "- This is interesting. Bad air quality during the night?"
   ]
  },
  {
   "cell_type": "code",
   "execution_count": 136,
   "metadata": {},
   "outputs": [
    {
     "name": "stdout",
     "output_type": "stream",
     "text": [
      "timestamp\n",
      "0     0.339888\n",
      "1     0.368843\n",
      "2     0.374635\n",
      "3     0.379423\n",
      "4     0.384074\n",
      "5     0.398698\n",
      "6     0.384823\n",
      "7     0.371256\n",
      "8     0.361436\n",
      "9     0.345749\n",
      "10    0.289481\n",
      "11    0.231066\n",
      "12    0.229708\n",
      "13    0.215138\n",
      "14    0.220366\n",
      "15    0.220529\n",
      "16    0.222573\n",
      "17    0.232044\n",
      "18    0.261920\n",
      "19    0.287728\n",
      "20    0.306648\n",
      "21    0.324662\n",
      "22    0.337414\n",
      "23    0.325869\n",
      "Name: pm1, dtype: float64\n"
     ]
    },
    {
     "data": {
      "text/plain": [
       "Text(0, 0.5, 'pm1')"
      ]
     },
     "execution_count": 136,
     "metadata": {},
     "output_type": "execute_result"
    },
    {
     "data": {
      "image/png": "[encoded data removed]",
      "text/plain": [
       "<Figure size 432x288 with 1 Axes>"
      ]
     },
     "metadata": {
      "needs_background": "light"
     },
     "output_type": "display_data"
    }
   ],
   "source": [
    "hours = SN['timestamp'].dt.hour\n",
    "data = SN.groupby(hours).mean()\n",
    "print(data['pm1'])\n",
    "data['pm1'].plot()\n",
    "plt.xlabel('hour')\n",
    "plt.ylabel('pm1')"
   ]
  },
  {
   "cell_type": "code",
   "execution_count": 182,
   "metadata": {},
   "outputs": [
    {
     "data": {
      "image/png": "[encoded data removed]",
      "text/plain": [
       "<Figure size 1296x864 with 7 Axes>"
      ]
     },
     "metadata": {
      "needs_background": "light"
     },
     "output_type": "display_data"
    }
   ],
   "source": [
    "# Mean AQ by hour by day of week\n",
    "fig = plt.figure(figsize=(18, 12))\n",
    "fig.subplots_adjust(hspace=1, wspace=0.5)\n",
    "hours = SN['timestamp'].dt.hour\n",
    "min_val = .12\n",
    "max_val = 1\n",
    "for i in range(len(DAY_OF_WEEK)):\n",
    "    ax = fig.add_subplot(3, 3, i+1, ylim=(min_val, max_val))\n",
    "    data = SN[SN['timestamp'].dt.dayofweek == i].groupby(hours).mean()\n",
    "    data['pm1']\n",
    "    ax.plot(data['pm1'])\n",
    "    plt.title(DAY_OF_WEEK[i])\n",
    "    plt.xlabel('hour')\n",
    "    plt.ylabel('pm1')"
   ]
  }
 ],
 "metadata": {
  "kernelspec": {
   "display_name": "Python 3",
   "language": "python",
   "name": "python3"
  },
  "language_info": {
   "codemirror_mode": {
    "name": "ipython",
    "version": 3
   },
   "file_extension": ".py",
   "mimetype": "text/x-python",
   "name": "python",
   "nbconvert_exporter": "python",
   "pygments_lexer": "ipython3",
   "version": "3.6.10"
  }
 },
 "nbformat": 4,
 "nbformat_minor": 4
}
