{
 "cells": [
  {
   "cell_type": "markdown",
   "metadata": {},
   "source": [
    "## Some initial stats and plots"
   ]
  },
  {
   "cell_type": "code",
   "execution_count": 33,
   "metadata": {},
   "outputs": [],
   "source": [
    "import numpy as np\n",
    "import pandas as pd\n",
    "%matplotlib inline\n",
    "import matplotlib.pyplot as plt\n",
    "plt.close('all');\n",
    "\n",
    "SN45 = pd.read_csv('data/SN000-045.csv');\n",
    "SN46 = pd.read_csv('data/SN000-046.csv');\n",
    "SN49 = pd.read_csv('data/SN000-049.csv');\n",
    "SN62 = pd.read_csv('data/SN000-062.csv');\n",
    "SN67 = pd.read_csv('data/SN000-067.csv');\n",
    "SN72 = pd.read_csv('data/SN000-072.csv');"
   ]
  },
  {
   "cell_type": "code",
   "execution_count": 34,
   "metadata": {},
   "outputs": [],
   "source": [
    "SN = SN46"
   ]
  },
  {
   "cell_type": "code",
   "execution_count": 35,
   "metadata": {},
   "outputs": [
    {
     "data": {
      "text/html": [
       "<div>\n",
       "<style scoped>\n",
       "    .dataframe tbody tr th:only-of-type {\n",
       "        vertical-align: middle;\n",
       "    }\n",
       "\n",
       "    .dataframe tbody tr th {\n",
       "        vertical-align: top;\n",
       "    }\n",
       "\n",
       "    .dataframe thead th {\n",
       "        text-align: right;\n",
       "    }\n",
       "</style>\n",
       "<table border=\"1\" class=\"dataframe\">\n",
       "  <thead>\n",
       "    <tr style=\"text-align: right;\">\n",
       "      <th></th>\n",
       "      <th>Unnamed: 0</th>\n",
       "      <th>id</th>\n",
       "      <th>raw_table_id</th>\n",
       "      <th>temp_box</th>\n",
       "      <th>temp_manifold</th>\n",
       "      <th>rh_manifold</th>\n",
       "      <th>pressure</th>\n",
       "      <th>noise</th>\n",
       "      <th>solar</th>\n",
       "      <th>wind_dir</th>\n",
       "      <th>...</th>\n",
       "      <th>lon</th>\n",
       "      <th>co2_model_id</th>\n",
       "      <th>voc_model_id</th>\n",
       "      <th>co_model_id</th>\n",
       "      <th>no_model_id</th>\n",
       "      <th>no2_model_id</th>\n",
       "      <th>o3_model_id</th>\n",
       "      <th>pm1_model_id</th>\n",
       "      <th>pm25_model_id</th>\n",
       "      <th>pm10_model_id</th>\n",
       "    </tr>\n",
       "  </thead>\n",
       "  <tbody>\n",
       "    <tr>\n",
       "      <th>count</th>\n",
       "      <td>329672.00000</td>\n",
       "      <td>3.296720e+05</td>\n",
       "      <td>3.296720e+05</td>\n",
       "      <td>329672.000000</td>\n",
       "      <td>318696.000000</td>\n",
       "      <td>318696.000000</td>\n",
       "      <td>3.296720e+05</td>\n",
       "      <td>329672.000000</td>\n",
       "      <td>329672.000000</td>\n",
       "      <td>329672.000000</td>\n",
       "      <td>...</td>\n",
       "      <td>269723.000000</td>\n",
       "      <td>0.0</td>\n",
       "      <td>0.0</td>\n",
       "      <td>0.0</td>\n",
       "      <td>0.0</td>\n",
       "      <td>0.0</td>\n",
       "      <td>0.0</td>\n",
       "      <td>329672.000000</td>\n",
       "      <td>329672.000000</td>\n",
       "      <td>329672.000000</td>\n",
       "    </tr>\n",
       "    <tr>\n",
       "      <th>mean</th>\n",
       "      <td>164835.50000</td>\n",
       "      <td>7.623368e+06</td>\n",
       "      <td>7.880793e+06</td>\n",
       "      <td>13.607496</td>\n",
       "      <td>8.920905</td>\n",
       "      <td>42.450789</td>\n",
       "      <td>1.016167e+05</td>\n",
       "      <td>5.123875</td>\n",
       "      <td>3.229755</td>\n",
       "      <td>181.063442</td>\n",
       "      <td>...</td>\n",
       "      <td>-71.007127</td>\n",
       "      <td>NaN</td>\n",
       "      <td>NaN</td>\n",
       "      <td>NaN</td>\n",
       "      <td>NaN</td>\n",
       "      <td>NaN</td>\n",
       "      <td>NaN</td>\n",
       "      <td>455.007410</td>\n",
       "      <td>456.007410</td>\n",
       "      <td>457.007410</td>\n",
       "    </tr>\n",
       "    <tr>\n",
       "      <th>std</th>\n",
       "      <td>95168.25331</td>\n",
       "      <td>3.929597e+06</td>\n",
       "      <td>2.395445e+06</td>\n",
       "      <td>8.817917</td>\n",
       "      <td>8.885391</td>\n",
       "      <td>11.100804</td>\n",
       "      <td>3.018596e+04</td>\n",
       "      <td>79.261117</td>\n",
       "      <td>40.003921</td>\n",
       "      <td>134.705214</td>\n",
       "      <td>...</td>\n",
       "      <td>0.007343</td>\n",
       "      <td>NaN</td>\n",
       "      <td>NaN</td>\n",
       "      <td>NaN</td>\n",
       "      <td>NaN</td>\n",
       "      <td>NaN</td>\n",
       "      <td>NaN</td>\n",
       "      <td>200.263866</td>\n",
       "      <td>200.263866</td>\n",
       "      <td>200.263866</td>\n",
       "    </tr>\n",
       "    <tr>\n",
       "      <th>min</th>\n",
       "      <td>0.00000</td>\n",
       "      <td>1.100000e+01</td>\n",
       "      <td>1.346030e+06</td>\n",
       "      <td>-2.200000</td>\n",
       "      <td>-7.000000</td>\n",
       "      <td>15.800000</td>\n",
       "      <td>5.094000e+04</td>\n",
       "      <td>0.700000</td>\n",
       "      <td>-0.300000</td>\n",
       "      <td>0.000000</td>\n",
       "      <td>...</td>\n",
       "      <td>-71.031013</td>\n",
       "      <td>NaN</td>\n",
       "      <td>NaN</td>\n",
       "      <td>NaN</td>\n",
       "      <td>NaN</td>\n",
       "      <td>NaN</td>\n",
       "      <td>NaN</td>\n",
       "      <td>30.000000</td>\n",
       "      <td>31.000000</td>\n",
       "      <td>32.000000</td>\n",
       "    </tr>\n",
       "    <tr>\n",
       "      <th>25%</th>\n",
       "      <td>82417.75000</td>\n",
       "      <td>4.663423e+06</td>\n",
       "      <td>6.731507e+06</td>\n",
       "      <td>7.600000</td>\n",
       "      <td>2.500000</td>\n",
       "      <td>34.000000</td>\n",
       "      <td>1.008860e+05</td>\n",
       "      <td>3.000000</td>\n",
       "      <td>0.000000</td>\n",
       "      <td>12.600000</td>\n",
       "      <td>...</td>\n",
       "      <td>-71.004852</td>\n",
       "      <td>NaN</td>\n",
       "      <td>NaN</td>\n",
       "      <td>NaN</td>\n",
       "      <td>NaN</td>\n",
       "      <td>NaN</td>\n",
       "      <td>NaN</td>\n",
       "      <td>361.000000</td>\n",
       "      <td>362.000000</td>\n",
       "      <td>363.000000</td>\n",
       "    </tr>\n",
       "    <tr>\n",
       "      <th>50%</th>\n",
       "      <td>164835.50000</td>\n",
       "      <td>7.528044e+06</td>\n",
       "      <td>9.134340e+06</td>\n",
       "      <td>12.600000</td>\n",
       "      <td>8.200000</td>\n",
       "      <td>41.100000</td>\n",
       "      <td>1.018360e+05</td>\n",
       "      <td>3.000000</td>\n",
       "      <td>0.000000</td>\n",
       "      <td>269.500000</td>\n",
       "      <td>...</td>\n",
       "      <td>-71.004852</td>\n",
       "      <td>NaN</td>\n",
       "      <td>NaN</td>\n",
       "      <td>NaN</td>\n",
       "      <td>NaN</td>\n",
       "      <td>NaN</td>\n",
       "      <td>NaN</td>\n",
       "      <td>589.000000</td>\n",
       "      <td>590.000000</td>\n",
       "      <td>591.000000</td>\n",
       "    </tr>\n",
       "    <tr>\n",
       "      <th>75%</th>\n",
       "      <td>247253.25000</td>\n",
       "      <td>1.101133e+07</td>\n",
       "      <td>9.482671e+06</td>\n",
       "      <td>17.500000</td>\n",
       "      <td>12.600000</td>\n",
       "      <td>50.900000</td>\n",
       "      <td>1.026520e+05</td>\n",
       "      <td>3.000000</td>\n",
       "      <td>4.000000</td>\n",
       "      <td>300.800000</td>\n",
       "      <td>...</td>\n",
       "      <td>-71.004852</td>\n",
       "      <td>NaN</td>\n",
       "      <td>NaN</td>\n",
       "      <td>NaN</td>\n",
       "      <td>NaN</td>\n",
       "      <td>NaN</td>\n",
       "      <td>NaN</td>\n",
       "      <td>589.000000</td>\n",
       "      <td>590.000000</td>\n",
       "      <td>591.000000</td>\n",
       "    </tr>\n",
       "    <tr>\n",
       "      <th>max</th>\n",
       "      <td>329671.00000</td>\n",
       "      <td>1.430126e+07</td>\n",
       "      <td>1.077439e+07</td>\n",
       "      <td>52.400000</td>\n",
       "      <td>74.400000</td>\n",
       "      <td>168.900000</td>\n",
       "      <td>1.697029e+07</td>\n",
       "      <td>20176.800000</td>\n",
       "      <td>20308.200000</td>\n",
       "      <td>2254.300000</td>\n",
       "      <td>...</td>\n",
       "      <td>-71.000000</td>\n",
       "      <td>NaN</td>\n",
       "      <td>NaN</td>\n",
       "      <td>NaN</td>\n",
       "      <td>NaN</td>\n",
       "      <td>NaN</td>\n",
       "      <td>NaN</td>\n",
       "      <td>589.000000</td>\n",
       "      <td>590.000000</td>\n",
       "      <td>591.000000</td>\n",
       "    </tr>\n",
       "  </tbody>\n",
       "</table>\n",
       "<p>8 rows × 31 columns</p>\n",
       "</div>"
      ],
      "text/plain": [
       "         Unnamed: 0            id  raw_table_id       temp_box  temp_manifold  \\\n",
       "count  329672.00000  3.296720e+05  3.296720e+05  329672.000000  318696.000000   \n",
       "mean   164835.50000  7.623368e+06  7.880793e+06      13.607496       8.920905   \n",
       "std     95168.25331  3.929597e+06  2.395445e+06       8.817917       8.885391   \n",
       "min         0.00000  1.100000e+01  1.346030e+06      -2.200000      -7.000000   \n",
       "25%     82417.75000  4.663423e+06  6.731507e+06       7.600000       2.500000   \n",
       "50%    164835.50000  7.528044e+06  9.134340e+06      12.600000       8.200000   \n",
       "75%    247253.25000  1.101133e+07  9.482671e+06      17.500000      12.600000   \n",
       "max    329671.00000  1.430126e+07  1.077439e+07      52.400000      74.400000   \n",
       "\n",
       "         rh_manifold      pressure          noise          solar  \\\n",
       "count  318696.000000  3.296720e+05  329672.000000  329672.000000   \n",
       "mean       42.450789  1.016167e+05       5.123875       3.229755   \n",
       "std        11.100804  3.018596e+04      79.261117      40.003921   \n",
       "min        15.800000  5.094000e+04       0.700000      -0.300000   \n",
       "25%        34.000000  1.008860e+05       3.000000       0.000000   \n",
       "50%        41.100000  1.018360e+05       3.000000       0.000000   \n",
       "75%        50.900000  1.026520e+05       3.000000       4.000000   \n",
       "max       168.900000  1.697029e+07   20176.800000   20308.200000   \n",
       "\n",
       "            wind_dir  ...            lon  co2_model_id  voc_model_id  \\\n",
       "count  329672.000000  ...  269723.000000           0.0           0.0   \n",
       "mean      181.063442  ...     -71.007127           NaN           NaN   \n",
       "std       134.705214  ...       0.007343           NaN           NaN   \n",
       "min         0.000000  ...     -71.031013           NaN           NaN   \n",
       "25%        12.600000  ...     -71.004852           NaN           NaN   \n",
       "50%       269.500000  ...     -71.004852           NaN           NaN   \n",
       "75%       300.800000  ...     -71.004852           NaN           NaN   \n",
       "max      2254.300000  ...     -71.000000           NaN           NaN   \n",
       "\n",
       "       co_model_id  no_model_id  no2_model_id  o3_model_id   pm1_model_id  \\\n",
       "count          0.0          0.0           0.0          0.0  329672.000000   \n",
       "mean           NaN          NaN           NaN          NaN     455.007410   \n",
       "std            NaN          NaN           NaN          NaN     200.263866   \n",
       "min            NaN          NaN           NaN          NaN      30.000000   \n",
       "25%            NaN          NaN           NaN          NaN     361.000000   \n",
       "50%            NaN          NaN           NaN          NaN     589.000000   \n",
       "75%            NaN          NaN           NaN          NaN     589.000000   \n",
       "max            NaN          NaN           NaN          NaN     589.000000   \n",
       "\n",
       "       pm25_model_id  pm10_model_id  \n",
       "count  329672.000000  329672.000000  \n",
       "mean      456.007410     457.007410  \n",
       "std       200.263866     200.263866  \n",
       "min        31.000000      32.000000  \n",
       "25%       362.000000     363.000000  \n",
       "50%       590.000000     591.000000  \n",
       "75%       590.000000     591.000000  \n",
       "max       590.000000     591.000000  \n",
       "\n",
       "[8 rows x 31 columns]"
      ]
     },
     "execution_count": 35,
     "metadata": {},
     "output_type": "execute_result"
    }
   ],
   "source": [
    "SN.describe()"
   ]
  },
  {
   "cell_type": "code",
   "execution_count": 36,
   "metadata": {},
   "outputs": [
    {
     "data": {
      "text/plain": [
       "Unnamed: 0           int64\n",
       "id                   int64\n",
       "timestamp           object\n",
       "timestamp_local     object\n",
       "sn                  object\n",
       "raw_table_id         int64\n",
       "temp_box           float64\n",
       "temp_manifold      float64\n",
       "rh_manifold        float64\n",
       "pressure           float64\n",
       "noise              float64\n",
       "solar              float64\n",
       "wind_dir           float64\n",
       "wind_speed         float64\n",
       "co2                float64\n",
       "voc                float64\n",
       "co                 float64\n",
       "no                 float64\n",
       "no2                float64\n",
       "o3                 float64\n",
       "pm1                float64\n",
       "pm25               float64\n",
       "pm10               float64\n",
       "lat                float64\n",
       "lon                float64\n",
       "device_state        object\n",
       "co2_model_id       float64\n",
       "voc_model_id       float64\n",
       "co_model_id        float64\n",
       "no_model_id        float64\n",
       "no2_model_id       float64\n",
       "o3_model_id        float64\n",
       "pm1_model_id         int64\n",
       "pm25_model_id        int64\n",
       "pm10_model_id        int64\n",
       "dtype: object"
      ]
     },
     "execution_count": 36,
     "metadata": {},
     "output_type": "execute_result"
    }
   ],
   "source": [
    "SN.dtypes"
   ]
  },
  {
   "cell_type": "code",
   "execution_count": 37,
   "metadata": {},
   "outputs": [
    {
     "data": {
      "text/plain": [
       "0         2020-02-12T18:59:31Z\n",
       "1         2020-02-12T18:58:31Z\n",
       "2         2020-02-12T18:57:31Z\n",
       "3         2020-02-12T18:56:31Z\n",
       "4         2020-02-12T18:55:31Z\n",
       "5         2020-02-12T18:54:31Z\n",
       "6         2020-02-12T18:53:31Z\n",
       "7         2020-02-12T18:52:31Z\n",
       "8         2020-02-12T18:51:31Z\n",
       "9         2020-02-12T18:50:31Z\n",
       "10        2020-02-12T18:49:31Z\n",
       "11        2020-02-12T18:48:31Z\n",
       "12        2020-02-12T18:47:31Z\n",
       "13        2020-02-12T18:46:31Z\n",
       "14        2020-02-12T18:45:31Z\n",
       "15        2020-02-12T18:44:31Z\n",
       "16        2020-02-12T18:43:31Z\n",
       "17        2020-02-12T18:42:31Z\n",
       "18        2020-02-12T18:41:31Z\n",
       "19        2020-02-12T18:40:31Z\n",
       "20        2020-02-12T18:39:31Z\n",
       "21        2020-02-12T18:38:31Z\n",
       "22        2020-02-12T18:37:31Z\n",
       "23        2020-02-12T18:36:31Z\n",
       "24        2020-02-12T18:35:31Z\n",
       "25        2020-02-12T18:34:31Z\n",
       "26        2020-02-12T18:33:31Z\n",
       "27        2020-02-12T18:32:31Z\n",
       "28        2020-02-12T18:31:31Z\n",
       "29        2020-02-12T18:30:31Z\n",
       "                  ...         \n",
       "329642    2019-05-06T17:33:33Z\n",
       "329643    2019-05-06T17:32:23Z\n",
       "329644    2019-05-06T17:31:33Z\n",
       "329645    2019-05-06T17:30:33Z\n",
       "329646    2019-05-06T17:29:23Z\n",
       "329647    2019-05-06T17:28:23Z\n",
       "329648    2019-05-06T17:27:33Z\n",
       "329649    2019-05-06T17:26:33Z\n",
       "329650    2019-05-06T17:25:33Z\n",
       "329651    2019-05-06T17:24:33Z\n",
       "329652    2019-05-06T17:23:33Z\n",
       "329653    2019-05-06T17:22:33Z\n",
       "329654    2019-05-06T17:21:33Z\n",
       "329655    2019-05-06T17:20:33Z\n",
       "329656    2019-05-06T17:19:33Z\n",
       "329657    2019-05-06T17:18:23Z\n",
       "329658    2019-05-06T17:17:33Z\n",
       "329659    2019-05-06T17:16:33Z\n",
       "329660    2019-05-06T17:15:33Z\n",
       "329661    2019-05-06T17:14:33Z\n",
       "329662    2019-05-06T17:13:33Z\n",
       "329663    2019-05-06T17:12:33Z\n",
       "329664    2019-05-06T17:11:33Z\n",
       "329665    2019-05-06T17:10:33Z\n",
       "329666    2019-05-06T17:09:23Z\n",
       "329667    2019-05-06T17:08:23Z\n",
       "329668    2019-05-06T17:07:33Z\n",
       "329669    2019-05-06T17:06:33Z\n",
       "329670    2019-05-06T17:05:33Z\n",
       "329671    2019-05-06T17:04:33Z\n",
       "Name: timestamp_local, Length: 329672, dtype: object"
      ]
     },
     "execution_count": 37,
     "metadata": {},
     "output_type": "execute_result"
    }
   ],
   "source": [
    "SN.timestamp_local"
   ]
  },
  {
   "cell_type": "code",
   "execution_count": 38,
   "metadata": {},
   "outputs": [
    {
     "data": {
      "text/plain": [
       "300260    25.304318\n",
       "300259    24.360332\n",
       "300258    23.776002\n",
       "300256    23.499946\n",
       "300257    23.099645\n",
       "Name: pm1, dtype: float64"
      ]
     },
     "execution_count": 38,
     "metadata": {},
     "output_type": "execute_result"
    }
   ],
   "source": [
    "SN.pm1.sort_values(ascending=False).head()"
   ]
  },
  {
   "cell_type": "code",
   "execution_count": 39,
   "metadata": {},
   "outputs": [
    {
     "name": "stdout",
     "output_type": "stream",
     "text": [
      "0         0.137200\n",
      "1         0.140400\n",
      "2         0.140100\n",
      "3         0.139800\n",
      "4         0.136700\n",
      "5         0.130700\n",
      "6         0.144900\n",
      "7         0.159900\n",
      "8         0.159400\n",
      "9         0.149600\n",
      "10        0.197700\n",
      "11        0.135500\n",
      "12        0.129600\n",
      "13        0.129300\n",
      "14        0.123200\n",
      "15        0.124600\n",
      "16        0.138900\n",
      "17        0.153200\n",
      "18        0.146400\n",
      "19        0.151700\n",
      "20        0.190500\n",
      "21        0.204300\n",
      "22        0.135600\n",
      "23        0.134300\n",
      "24        0.128700\n",
      "25        0.127400\n",
      "26        0.127300\n",
      "27        0.126400\n",
      "28        0.125700\n",
      "29        0.126100\n",
      "            ...   \n",
      "329642    0.151632\n",
      "329643    0.157553\n",
      "329644    0.159978\n",
      "329645    0.147758\n",
      "329646    0.173738\n",
      "329647    0.160292\n",
      "329648    0.175047\n",
      "329649    0.175035\n",
      "329650    0.165347\n",
      "329651    0.168764\n",
      "329652    0.164575\n",
      "329653    0.167570\n",
      "329654    0.157932\n",
      "329655    0.166919\n",
      "329656    0.159562\n",
      "329657    0.166326\n",
      "329658    0.150727\n",
      "329659    0.151451\n",
      "329660    0.155138\n",
      "329661    0.145412\n",
      "329662    0.143429\n",
      "329663    0.155396\n",
      "329664    0.157047\n",
      "329665    0.156710\n",
      "329666    0.154542\n",
      "329667    0.153241\n",
      "329668    0.154067\n",
      "329669    0.148168\n",
      "329670    0.159170\n",
      "329671    0.153532\n",
      "Name: pm1, Length: 329672, dtype: float64\n"
     ]
    },
    {
     "data": {
      "text/plain": [
       "<matplotlib.axes._subplots.AxesSubplot at 0x28230ddfb70>"
      ]
     },
     "execution_count": 39,
     "metadata": {},
     "output_type": "execute_result"
    },
    {
     "data": {
      "image/png": "[encoded data removed]",
      "text/plain": [
       "<Figure size 432x288 with 1 Axes>"
      ]
     },
     "metadata": {
      "needs_background": "light"
     },
     "output_type": "display_data"
    }
   ],
   "source": [
    "SN_pm1 = pd.Series(SN.pm1)\n",
    "print(SN_pm1)\n",
    "SN_pm1.plot()"
   ]
  },
  {
   "cell_type": "markdown",
   "metadata": {},
   "source": [
    "## Fixing the dates so they display better on the graphs"
   ]
  },
  {
   "cell_type": "code",
   "execution_count": 40,
   "metadata": {},
   "outputs": [
    {
     "data": {
      "text/plain": [
       "329667   2019-05-06 17:08:23\n",
       "329668   2019-05-06 17:07:33\n",
       "329669   2019-05-06 17:06:33\n",
       "329670   2019-05-06 17:05:33\n",
       "329671   2019-05-06 17:04:33\n",
       "Name: timestamp, dtype: datetime64[ns]"
      ]
     },
     "execution_count": 40,
     "metadata": {},
     "output_type": "execute_result"
    }
   ],
   "source": [
    "SN['timestamp'] = pd.to_datetime(SN.timestamp_local, infer_datetime_format=True)\n",
    "SN['timestamp'].tail()"
   ]
  },
  {
   "cell_type": "code",
   "execution_count": 41,
   "metadata": {},
   "outputs": [
    {
     "data": {
      "text/plain": [
       "0    2\n",
       "1    2\n",
       "2    2\n",
       "3    2\n",
       "4    2\n",
       "Name: timestamp, dtype: int64"
      ]
     },
     "execution_count": 41,
     "metadata": {},
     "output_type": "execute_result"
    }
   ],
   "source": [
    "SN['timestamp'].dt.dayofweek.head() # Monday = 0, Sunday = 6"
   ]
  },
  {
   "cell_type": "markdown",
   "metadata": {},
   "source": [
    "### Worst dates\n",
    "- Worst dates in the series: find the mean `pm1` values for each date, then sort by mean `pm1` to find top 10 worst dates"
   ]
  },
  {
   "cell_type": "code",
   "execution_count": 42,
   "metadata": {},
   "outputs": [
    {
     "data": {
      "text/plain": [
       "timestamp\n",
       "2019-07-04    7.353013\n",
       "2019-06-01    4.374103\n",
       "2019-07-05    4.328201\n",
       "2019-06-29    2.500011\n",
       "2020-02-11    1.646002\n",
       "2019-05-17    1.542608\n",
       "2019-05-20    1.014461\n",
       "2020-01-04    0.950242\n",
       "2020-02-01    0.922416\n",
       "2019-05-26    0.888040\n",
       "Name: pm1, dtype: float64"
      ]
     },
     "execution_count": 42,
     "metadata": {},
     "output_type": "execute_result"
    }
   ],
   "source": [
    "data = SN.groupby(SN['timestamp'].dt.date).mean().sort_values('pm1', ascending=False)['pm1']\n",
    "data[:10]"
   ]
  },
  {
   "cell_type": "markdown",
   "metadata": {},
   "source": [
    "### Worst Months\n",
    "- Worst months in the series: find the mean `pm1` values for each month, then sort by mean `pm1` to find top 10 worst months. Question: where is August for SN46??!"
   ]
  },
  {
   "cell_type": "code",
   "execution_count": 43,
   "metadata": {},
   "outputs": [
    {
     "data": {
      "text/plain": [
       "timestamp\n",
       "7     5.351138\n",
       "6     2.884440\n",
       "5     0.540845\n",
       "2     0.466664\n",
       "11    0.287991\n",
       "1     0.279459\n",
       "12    0.262990\n",
       "10    0.233002\n",
       "9     0.216495\n",
       "Name: pm1, dtype: float64"
      ]
     },
     "execution_count": 43,
     "metadata": {},
     "output_type": "execute_result"
    }
   ],
   "source": [
    "months = SN['timestamp'].dt.month\n",
    "data = SN.groupby(months).mean()\n",
    "data = data.sort_values('pm1', ascending=False)\n",
    "data['pm1']"
   ]
  },
  {
   "cell_type": "code",
   "execution_count": 44,
   "metadata": {},
   "outputs": [
    {
     "data": {
      "text/plain": [
       "Text(0, 0.5, 'pm1')"
      ]
     },
     "execution_count": 44,
     "metadata": {},
     "output_type": "execute_result"
    },
    {
     "data": {
      "image/png": "[encoded data removed]",
      "text/plain": [
       "<Figure size 432x288 with 1 Axes>"
      ]
     },
     "metadata": {
      "needs_background": "light"
     },
     "output_type": "display_data"
    }
   ],
   "source": [
    "plt.scatter(x=data['pm1'].index, y=data['pm1'])\n",
    "plt.xlabel('month')\n",
    "plt.ylabel('pm1')"
   ]
  },
  {
   "cell_type": "markdown",
   "metadata": {},
   "source": [
    "### Day of week\n",
    "- Data quality from Monday to Sunday"
   ]
  },
  {
   "cell_type": "code",
   "execution_count": 45,
   "metadata": {},
   "outputs": [],
   "source": [
    "DAY_OF_WEEK = ['Sun', 'Mon', 'Tue', 'Wed', 'Thu', 'Fri', 'Sat']"
   ]
  },
  {
   "cell_type": "code",
   "execution_count": 46,
   "metadata": {},
   "outputs": [
    {
     "name": "stdout",
     "output_type": "stream",
     "text": [
      "Sun \t mean: 0.26 \t median: 0.14 \t max: 2.59 \t day_max: 2019-05-13 12:53:34\n",
      "Mon \t mean: 0.35 \t median: 0.17 \t max: 5.66 \t day_max: 2019-05-21 12:27:19\n",
      "Tue \t mean: 0.35 \t median: 0.24 \t max: 5.69 \t day_max: 2019-05-22 09:24:45\n",
      "Wed \t mean: 0.31 \t median: 0.24 \t max: 25.30 \t day_max: 2019-07-04 14:57:17\n",
      "Thu \t mean: 0.33 \t median: 0.16 \t max: 11.10 \t day_max: 2019-07-05 01:47:03\n",
      "Fri \t mean: 0.27 \t median: 0.14 \t max: 4.90 \t day_max: 2019-06-01 11:37:23\n",
      "Sat \t mean: 0.36 \t median: 0.19 \t max: 3.13 \t day_max: 2019-05-26 15:07:23\n"
     ]
    }
   ],
   "source": [
    "for name, group in SN.groupby(SN['timestamp'].dt.dayofweek):\n",
    "    group_data = group[['timestamp', 'pm1']]\n",
    "    print(\"{} \\t mean: {:.2f} \\t median: {:.2f} \\t max: {:.2f} \\t day_max: {}\".format(DAY_OF_WEEK[name], \n",
    "                                                                group_data['pm1'].mean(), \n",
    "                                                                group_data['pm1'].median(), \n",
    "                                                                group_data['pm1'][group_data['pm1'].idxmax()],\n",
    "                                                                group_data['timestamp'][group_data['pm1'].idxmax()]))"
   ]
  },
  {
   "cell_type": "markdown",
   "metadata": {},
   "source": [
    "### Hours\n",
    "- This is interesting. Bad air quality during the night?"
   ]
  },
  {
   "cell_type": "code",
   "execution_count": 47,
   "metadata": {},
   "outputs": [
    {
     "name": "stdout",
     "output_type": "stream",
     "text": [
      "timestamp\n",
      "0     0.337773\n",
      "1     0.361071\n",
      "2     0.373255\n",
      "3     0.371582\n",
      "4     0.387012\n",
      "5     0.393543\n",
      "6     0.374943\n",
      "7     0.375381\n",
      "8     0.366528\n",
      "9     0.382784\n",
      "10    0.314806\n",
      "11    0.265389\n",
      "12    0.243570\n",
      "13    0.234864\n",
      "14    0.256132\n",
      "15    0.299523\n",
      "16    0.251858\n",
      "17    0.235433\n",
      "18    0.261045\n",
      "19    0.297161\n",
      "20    0.314287\n",
      "21    0.349811\n",
      "22    0.347697\n",
      "23    0.325448\n",
      "Name: pm1, dtype: float64\n"
     ]
    },
    {
     "data": {
      "text/plain": [
       "Text(0, 0.5, 'pm1')"
      ]
     },
     "execution_count": 47,
     "metadata": {},
     "output_type": "execute_result"
    },
    {
     "data": {
      "image/png": "[encoded data removed]",
      "text/plain": [
       "<Figure size 432x288 with 1 Axes>"
      ]
     },
     "metadata": {
      "needs_background": "light"
     },
     "output_type": "display_data"
    }
   ],
   "source": [
    "hours = SN['timestamp'].dt.hour\n",
    "data = SN.groupby(hours).mean()\n",
    "print(data['pm1'])\n",
    "data['pm1'].plot()\n",
    "plt.xlabel('hour')\n",
    "plt.ylabel('pm1')"
   ]
  },
  {
   "cell_type": "code",
   "execution_count": 49,
   "metadata": {},
   "outputs": [
    {
     "data": {
      "image/png": "[encoded data removed]",
      "text/plain": [
       "<Figure size 1296x864 with 7 Axes>"
      ]
     },
     "metadata": {
      "needs_background": "light"
     },
     "output_type": "display_data"
    }
   ],
   "source": [
    "# Mean AQ by hour by day of week\n",
    "fig = plt.figure(figsize=(18, 12))\n",
    "fig.subplots_adjust(hspace=.5, wspace=0.5)\n",
    "hours = SN['timestamp'].dt.hour\n",
    "min_val = .12\n",
    "max_val = 1\n",
    "for i in range(len(DAY_OF_WEEK)):\n",
    "    ax = fig.add_subplot(3, 3, i+1, ylim=(min_val, max_val))\n",
    "    data = SN[SN['timestamp'].dt.dayofweek == i].groupby(hours).mean()\n",
    "    data['pm1']\n",
    "    ax.plot(data['pm1'])\n",
    "    plt.title(DAY_OF_WEEK[i])\n",
    "    plt.xlabel('hour')\n",
    "    plt.ylabel('pm1')"
   ]
  }
 ],
 "metadata": {
  "kernelspec": {
   "display_name": "Python 3",
   "language": "python",
   "name": "python3"
  },
  "language_info": {
   "codemirror_mode": {
    "name": "ipython",
    "version": 3
   },
   "file_extension": ".py",
   "mimetype": "text/x-python",
   "name": "python",
   "nbconvert_exporter": "python",
   "pygments_lexer": "ipython3",
   "version": "3.6.10"
  }
 },
 "nbformat": 4,
 "nbformat_minor": 4
}
