{
 "cells": [
  {
   "cell_type": "markdown",
   "metadata": {},
   "source": [
    "# AQI Calculation \n",
    "This notebook contains code associated with calculating the AQI in East Boston. This work's intention is to provide some context for whether or not Air Partners should pursue using AQI as an indicator by which to inform East Boston residents about the air quality. For more context, read the [assumption test](https://docs.google.com/document/d/1EtGzySFGZ5PVPhCsywW77AdkwYG_axO-Zp_cfnLsTVg/edit#) assorted with this work."
   ]
  },
  {
   "cell_type": "code",
   "execution_count": 13,
   "metadata": {},
   "outputs": [],
   "source": [
    "import bisect\n",
    "import datetime as dt\n",
    "import math\n",
    "import matplotlib.pyplot as plt\n",
    "import numpy as np\n",
    "import pandas as pd"
   ]
  },
  {
   "cell_type": "markdown",
   "metadata": {},
   "source": [
    "## Dataset Exploration\n",
    "We are lucky enough to have a cleaned dataset (i.e. post filtering and QA/QC) available, stored as a tar file because of GitHub's size restrictions. Note that the cell below (and all of the cells that follow it) will not run until you un-tar the `cleaned_sn45.tar` file in the `data/` directory, which you can do with the command `tar -xvf data/cleaned_sn45.tar`.\n",
    "\n",
    "Start by exploring and plotting the dataset. "
   ]
  },
  {
   "cell_type": "code",
   "execution_count": 14,
   "metadata": {},
   "outputs": [
    {
     "data": {
      "text/html": [
       "<div>\n",
       "<style scoped>\n",
       "    .dataframe tbody tr th:only-of-type {\n",
       "        vertical-align: middle;\n",
       "    }\n",
       "\n",
       "    .dataframe tbody tr th {\n",
       "        vertical-align: top;\n",
       "    }\n",
       "\n",
       "    .dataframe thead th {\n",
       "        text-align: right;\n",
       "    }\n",
       "</style>\n",
       "<table border=\"1\" class=\"dataframe\">\n",
       "  <thead>\n",
       "    <tr style=\"text-align: right;\">\n",
       "      <th></th>\n",
       "      <th>temp_manifold</th>\n",
       "      <th>co</th>\n",
       "      <th>no</th>\n",
       "      <th>no2</th>\n",
       "      <th>o3</th>\n",
       "      <th>pm1</th>\n",
       "      <th>pm25</th>\n",
       "      <th>pm10</th>\n",
       "      <th>co2</th>\n",
       "      <th>bin0</th>\n",
       "      <th>no_ae</th>\n",
       "      <th>wd</th>\n",
       "      <th>ws</th>\n",
       "      <th>correctedNO</th>\n",
       "    </tr>\n",
       "  </thead>\n",
       "  <tbody>\n",
       "    <tr>\n",
       "      <th>count</th>\n",
       "      <td>387704.000000</td>\n",
       "      <td>387262.000000</td>\n",
       "      <td>386561.000000</td>\n",
       "      <td>387693.000000</td>\n",
       "      <td>387703.000000</td>\n",
       "      <td>387704.000000</td>\n",
       "      <td>387704.000000</td>\n",
       "      <td>387704.000000</td>\n",
       "      <td>387703.000000</td>\n",
       "      <td>387704.000000</td>\n",
       "      <td>387704.000000</td>\n",
       "      <td>387704.000000</td>\n",
       "      <td>387704.000000</td>\n",
       "      <td>386240.000000</td>\n",
       "    </tr>\n",
       "    <tr>\n",
       "      <th>mean</th>\n",
       "      <td>13.647573</td>\n",
       "      <td>159.355256</td>\n",
       "      <td>5.148322</td>\n",
       "      <td>9.116818</td>\n",
       "      <td>22.393144</td>\n",
       "      <td>0.245195</td>\n",
       "      <td>0.435172</td>\n",
       "      <td>3.907743</td>\n",
       "      <td>506.734158</td>\n",
       "      <td>5.510000</td>\n",
       "      <td>666.034807</td>\n",
       "      <td>217.622026</td>\n",
       "      <td>4.967693</td>\n",
       "      <td>2.762795</td>\n",
       "    </tr>\n",
       "    <tr>\n",
       "      <th>std</th>\n",
       "      <td>8.825574</td>\n",
       "      <td>110.395796</td>\n",
       "      <td>12.005006</td>\n",
       "      <td>6.802572</td>\n",
       "      <td>7.620916</td>\n",
       "      <td>0.280186</td>\n",
       "      <td>0.482057</td>\n",
       "      <td>8.307378</td>\n",
       "      <td>93.149340</td>\n",
       "      <td>6.377054</td>\n",
       "      <td>15.342721</td>\n",
       "      <td>100.594908</td>\n",
       "      <td>2.594865</td>\n",
       "      <td>10.250056</td>\n",
       "    </tr>\n",
       "    <tr>\n",
       "      <th>min</th>\n",
       "      <td>-8.800000</td>\n",
       "      <td>0.026152</td>\n",
       "      <td>0.000100</td>\n",
       "      <td>0.396604</td>\n",
       "      <td>0.000000</td>\n",
       "      <td>0.000000</td>\n",
       "      <td>0.000000</td>\n",
       "      <td>0.000000</td>\n",
       "      <td>307.515074</td>\n",
       "      <td>0.000000</td>\n",
       "      <td>166.400000</td>\n",
       "      <td>10.000000</td>\n",
       "      <td>0.000000</td>\n",
       "      <td>0.000000</td>\n",
       "    </tr>\n",
       "    <tr>\n",
       "      <th>25%</th>\n",
       "      <td>7.100000</td>\n",
       "      <td>90.866311</td>\n",
       "      <td>1.691654</td>\n",
       "      <td>5.408743</td>\n",
       "      <td>17.245761</td>\n",
       "      <td>0.083653</td>\n",
       "      <td>0.145534</td>\n",
       "      <td>0.804356</td>\n",
       "      <td>392.380272</td>\n",
       "      <td>1.674000</td>\n",
       "      <td>662.100000</td>\n",
       "      <td>140.000000</td>\n",
       "      <td>2.569931</td>\n",
       "      <td>0.370723</td>\n",
       "    </tr>\n",
       "    <tr>\n",
       "      <th>50%</th>\n",
       "      <td>12.300000</td>\n",
       "      <td>132.757339</td>\n",
       "      <td>2.936063</td>\n",
       "      <td>7.780322</td>\n",
       "      <td>23.053606</td>\n",
       "      <td>0.151732</td>\n",
       "      <td>0.284262</td>\n",
       "      <td>1.718963</td>\n",
       "      <td>548.066478</td>\n",
       "      <td>3.182000</td>\n",
       "      <td>663.700000</td>\n",
       "      <td>230.000000</td>\n",
       "      <td>4.625875</td>\n",
       "      <td>1.032190</td>\n",
       "    </tr>\n",
       "    <tr>\n",
       "      <th>75%</th>\n",
       "      <td>20.400000</td>\n",
       "      <td>194.253347</td>\n",
       "      <td>4.868329</td>\n",
       "      <td>11.244448</td>\n",
       "      <td>27.753741</td>\n",
       "      <td>0.304699</td>\n",
       "      <td>0.545325</td>\n",
       "      <td>3.831488</td>\n",
       "      <td>566.288995</td>\n",
       "      <td>7.034000</td>\n",
       "      <td>667.400000</td>\n",
       "      <td>300.000000</td>\n",
       "      <td>6.681819</td>\n",
       "      <td>2.231443</td>\n",
       "    </tr>\n",
       "    <tr>\n",
       "      <th>max</th>\n",
       "      <td>68.400000</td>\n",
       "      <td>6055.571570</td>\n",
       "      <td>729.976933</td>\n",
       "      <td>608.128860</td>\n",
       "      <td>54.902919</td>\n",
       "      <td>10.091917</td>\n",
       "      <td>20.898884</td>\n",
       "      <td>534.991092</td>\n",
       "      <td>1650.903831</td>\n",
       "      <td>168.214000</td>\n",
       "      <td>3298.200000</td>\n",
       "      <td>360.000000</td>\n",
       "      <td>21.587417</td>\n",
       "      <td>729.998953</td>\n",
       "    </tr>\n",
       "  </tbody>\n",
       "</table>\n",
       "</div>"
      ],
      "text/plain": [
       "       temp_manifold             co             no            no2  \\\n",
       "count  387704.000000  387262.000000  386561.000000  387693.000000   \n",
       "mean       13.647573     159.355256       5.148322       9.116818   \n",
       "std         8.825574     110.395796      12.005006       6.802572   \n",
       "min        -8.800000       0.026152       0.000100       0.396604   \n",
       "25%         7.100000      90.866311       1.691654       5.408743   \n",
       "50%        12.300000     132.757339       2.936063       7.780322   \n",
       "75%        20.400000     194.253347       4.868329      11.244448   \n",
       "max        68.400000    6055.571570     729.976933     608.128860   \n",
       "\n",
       "                  o3            pm1           pm25           pm10  \\\n",
       "count  387703.000000  387704.000000  387704.000000  387704.000000   \n",
       "mean       22.393144       0.245195       0.435172       3.907743   \n",
       "std         7.620916       0.280186       0.482057       8.307378   \n",
       "min         0.000000       0.000000       0.000000       0.000000   \n",
       "25%        17.245761       0.083653       0.145534       0.804356   \n",
       "50%        23.053606       0.151732       0.284262       1.718963   \n",
       "75%        27.753741       0.304699       0.545325       3.831488   \n",
       "max        54.902919      10.091917      20.898884     534.991092   \n",
       "\n",
       "                 co2           bin0          no_ae             wd  \\\n",
       "count  387703.000000  387704.000000  387704.000000  387704.000000   \n",
       "mean      506.734158       5.510000     666.034807     217.622026   \n",
       "std        93.149340       6.377054      15.342721     100.594908   \n",
       "min       307.515074       0.000000     166.400000      10.000000   \n",
       "25%       392.380272       1.674000     662.100000     140.000000   \n",
       "50%       548.066478       3.182000     663.700000     230.000000   \n",
       "75%       566.288995       7.034000     667.400000     300.000000   \n",
       "max      1650.903831     168.214000    3298.200000     360.000000   \n",
       "\n",
       "                  ws    correctedNO  \n",
       "count  387704.000000  386240.000000  \n",
       "mean        4.967693       2.762795  \n",
       "std         2.594865      10.250056  \n",
       "min         0.000000       0.000000  \n",
       "25%         2.569931       0.370723  \n",
       "50%         4.625875       1.032190  \n",
       "75%         6.681819       2.231443  \n",
       "max        21.587417     729.998953  "
      ]
     },
     "execution_count": 14,
     "metadata": {},
     "output_type": "execute_result"
    }
   ],
   "source": [
    "SN45 = pd.read_csv('cleaned_sn45.csv');\n",
    "SN45.describe()\n"
   ]
  },
  {
   "cell_type": "code",
   "execution_count": 15,
   "metadata": {},
   "outputs": [
    {
     "data": {
      "text/plain": [
       "date                  object\n",
       "timestamp             object\n",
       "timestamp_local       object\n",
       "temp_manifold        float64\n",
       "co                   float64\n",
       "no                   float64\n",
       "no2                  float64\n",
       "o3                   float64\n",
       "pm1                  float64\n",
       "pm25                 float64\n",
       "pm10                 float64\n",
       "co2                  float64\n",
       "bin0                 float64\n",
       "no_ae                float64\n",
       "originaldate          object\n",
       "original_met_time     object\n",
       "wd                     int64\n",
       "ws                   float64\n",
       "day                   object\n",
       "correctedNO          float64\n",
       "dtype: object"
      ]
     },
     "execution_count": 15,
     "metadata": {},
     "output_type": "execute_result"
    }
   ],
   "source": [
    "SN45.dtypes"
   ]
  },
  {
   "cell_type": "markdown",
   "metadata": {},
   "source": [
    "Make the timestamps nice datetime object, code in the cell bellow lifted from [SP19 exploration notebook](https://github.com/airpartners/data-analysis/blob/master/SP19-data-analysis-test.ipynb)."
   ]
  },
  {
   "cell_type": "code",
   "execution_count": 16,
   "metadata": {},
   "outputs": [
    {
     "data": {
      "text/plain": [
       "<matplotlib.axes._subplots.AxesSubplot at 0x18cf03b9048>"
      ]
     },
     "execution_count": 16,
     "metadata": {},
     "output_type": "execute_result"
    },
    {
     "data": {
      "image/png": "[encoded data removed]",
      "text/plain": [
       "<Figure size 432x288 with 1 Axes>"
      ]
     },
     "metadata": {
      "needs_background": "light"
     },
     "output_type": "display_data"
    }
   ],
   "source": [
    "index = []\n",
    "for ts in SN45.timestamp_local:\n",
    "    Y = int(ts[:4])\n",
    "    M = int(ts[5:7])\n",
    "    D = int(ts[8:10])\n",
    "    H = int(ts[11:13])\n",
    "    T = int(ts[14:16])\n",
    "    S = int(ts[17:19])\n",
    "    index.append(dt.datetime(Y, M, D, H, T, S))\n",
    "SN45.index = index\n",
    "SN45.pm1.plot()"
   ]
  },
  {
   "cell_type": "markdown",
   "metadata": {},
   "source": [
    "## Calculating AQI\n",
    "\n",
    "Basic documentation of AQI calculation was surprisingly hard to find, especially if you try to use the EPA website. Scott provided these two awesome links with more information than I could find anywhere else:\n",
    "- [AQI Calculation Overview](https://forum.airnowtech.org/t/aqi-calculations-overview-ozone-pm2-5-and-pm10/168)\n",
    "- [How is AQI Calculated](https://stimulatedemissions.wordpress.com/2013/04/10/how-is-the-air-quality-index-aqi-calculated/)\n",
    "\n",
    "This [article from the Minnesota pollution control agency](https://www.pca.state.mn.us/air/about-air-quality-data) contains some insight into AQI calculation and also contains the threshold used for this calculation.\n",
    "\n",
    "To find the AQI associated with a particular particle concentration, first determine which AQI breakpoint bin the highest particle concentration measured within the timeframe associated with that particle (24 hours for most, but 1 hour for NO2 and 8 hours for O3 falls within. These bins vary country-by-country, and this uses the most up-to-date EPA thresholds I could find (from the Minnesota pollution control agency)."
   ]
  },
  {
   "cell_type": "code",
   "execution_count": 17,
   "metadata": {},
   "outputs": [],
   "source": [
    "breakpoints = [0,50,100,150,200,300]\n",
    "O3 =   [0.000, 0.059, 0.075, 0.95,0.115, 0.375] # ppb max \n",
    "PM25 = [0.000, 12.1, 35.5, 55.5, 150.5, 250.5] # ug/m3 max 12 hr\n",
    "PM10 = [0, 55, 155, 255, 355, 425] # ug/m3 max 12 hr\n",
    "SO2 =  [0.000, 0.035, 0.145, .225, .305, .604] # ppb max 12 hr\n",
    "CO =   [0, 4.5, 9.5, 12.5, 15.5, 30.5] #ppm max 12 hr\n",
    "NO2 =  [0, 54, 101, 461, 650, 1241] #ppb max 1 hr"
   ]
  },
  {
   "cell_type": "markdown",
   "metadata": {},
   "source": [
    "Using those bins, apply the following formuls:\n",
    "\n",
    "```\n",
    "low_AQI + ((concentration - low_concentration) * ((high_AQI - low_AQI)/(high_concentration-low_concentration)))\n",
    "```\n",
    "Note that `low_AQI` and `low_concentration` correspond to the lower bounds associated with the interval the actual concentration (`concentration`) falls in, and `high_AQI` and `high_concentration` correspond with that same interval's higher bounds. "
   ]
  },
  {
   "cell_type": "code",
   "execution_count": 18,
   "metadata": {},
   "outputs": [],
   "source": [
    "def calculate_aqi_for_particle(concentration, particle_list, breakpoints=[0,50,100,150,200,300]):\n",
    "    \"\"\"\n",
    "    Calculate the AQI value associated with some floating point concentration value (likely in parts\n",
    "    per billion, must match the units on the particle list) given the list of concentration cutoffs and\n",
    "    list of breakpoints that match those cutoffs.\n",
    "\n",
    "    concentration: The highest particle concentration (matching units of particle_list) within the timespan of\n",
    "    the given particle\n",
    "    particle_list: The list of cutoffs for each breakpoint associated with the particle, matching units for concentration.\n",
    "    breakpoints: The list of breakpoints associated with particle_list cutoffs, defaults to 0:50:200, 300\n",
    "    \n",
    "    returns: Computed AQI value for that particle.\n",
    "    \"\"\"\n",
    "    # TODO Truncate the concentration to 3 decimal places\n",
    "    # TODO Any kind of input conditioning\n",
    "    high_index = bisect.bisect(particle_list, concentration)\n",
    "    low_index = high_index - 1\n",
    "    if low_index < 0 or high_index >= len(breakpoints):\n",
    "        print\n",
    "    low_AQI = breakpoints[low_index]\n",
    "    high_AQI = breakpoints[high_index]\n",
    "    low_concentration = particle_list[low_index]\n",
    "    high_concentration = particle_list[high_index]\n",
    "    return low_AQI + ((concentration - low_concentration) * ((high_AQI - low_AQI)/(high_concentration-low_concentration)))\n",
    "    \n",
    "def calculate_overall_aqi(concentration_list, particle_lists):\n",
    "    \"\"\"\n",
    "    Compute the overall AQI associated with a set of concentrations and bounds. The AQI is\n",
    "    equal to the maximum AQI value computed for any particle within the suite of available\n",
    "    measurements.\n",
    "    \"\"\"\n",
    "    max_aqi = 0\n",
    "    for concentration, lists in zip(concentration_list, particle_lists):\n",
    "        max_aqi = max(max_aqi, calculate_aqi_for_particle(concentration, particle_list))\n"
   ]
  },
  {
   "cell_type": "markdown",
   "metadata": {},
   "source": [
    "## Calculating AQI With Our Dataset"
   ]
  },
  {
   "cell_type": "markdown",
   "metadata": {},
   "source": [
    "With this dataset, we need to "
   ]
  },
  {
   "cell_type": "markdown",
   "metadata": {},
   "source": [
    "TODO Calcualte some AQIs for different times, plot them"
   ]
  },
  {
   "cell_type": "markdown",
   "metadata": {},
   "source": [
    "TODO Have a conclusion about whether or not its worth it."
   ]
  },
  {
   "cell_type": "code",
   "execution_count": null,
   "metadata": {},
   "outputs": [],
   "source": []
  }
 ],
 "metadata": {
  "kernelspec": {
   "display_name": "Python 3",
   "language": "python",
   "name": "python3"
  },
  "language_info": {
   "codemirror_mode": {
    "name": "ipython",
    "version": 3
   },
   "file_extension": ".py",
   "mimetype": "text/x-python",
   "name": "python",
   "nbconvert_exporter": "python",
   "pygments_lexer": "ipython3",
   "version": "3.7.3"
  }
 },
 "nbformat": 4,
 "nbformat_minor": 2
}
